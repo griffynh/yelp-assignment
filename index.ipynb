{
 "cells": [
  {
   "cell_type": "markdown",
   "metadata": {},
   "source": [
    "# Yelp API Project\n",
    "\n",
    "\n",
    "## Introduction \n",
    "\n",
    "We've learned how to query the Yelp API, analyze JSON data and create basic visualizations. It's time to put those skills to work in order to create a project of your own! Taking things a step further, you'll also independently explore how to perform pagination in order to retrieve a full results set from the Yelp API.\n",
    "\n",
    "## Objectives\n",
    "\n",
    "You will be able to: \n",
    "\n",
    "* Practice using functions to organize your code\n",
    "* Use pagination to retrieve all results from an API query\n",
    "* Practice parsing data returned from an API query\n",
    "* Practice interpreting visualizations of a dataset"
   ]
  },
  {
   "cell_type": "markdown",
   "metadata": {},
   "source": [
    "# Task: Query Yelp for All Businesses in a Category and Analyze the Results\n",
    "\n",
    "![restaurant counter with pizza](images/restaurant_counter.jpg)\n",
    "\n",
    "Photo by <a href=\"https://unsplash.com/@jordanmadrid?utm_source=unsplash&utm_medium=referral&utm_content=creditCopyText\">Jordan Madrid</a> on <a href=\"/s/photos/pizza-restaurant?utm_source=unsplash&utm_medium=referral&utm_content=creditCopyText\">Unsplash</a>"
   ]
  },
  {
   "cell_type": "markdown",
   "metadata": {},
   "source": [
    "## Overview\n",
    "\n",
    "You've now worked with some API calls, but we have yet to see how to retrieve a more complete dataset in a programmatic manner. In this lab, you will write a query of businesses on Yelp, then use *pagination* to retrieve all possible results for that query. Then you will pre-process and analyze your data, leading to a presentation of your findings.\n",
    "\n",
    "## Requirements\n",
    "\n",
    "### 1. Make the Initial Request\n",
    "\n",
    "Start by filling in your API key to make the initial request to the business search API. \n",
    "\n",
    "### 2. Add Pagination\n",
    "\n",
    "Using loops and functions, collect the maximum number of results for your query from the API.\n",
    "\n",
    "### 3. Prepare Data\n",
    "\n",
    "Investigate the structure of the response you get back and extract the relevant information.\n",
    "\n",
    "### 4. Perform Descriptive Analysis\n",
    "\n",
    "Interpret visualizations related to the price range, average rating, and number of reviews for all query results.\n",
    "\n",
    "### 5. Create Presentation Notebook\n",
    "\n",
    "Edit this notebook or create a new one to showcase your work."
   ]
  },
  {
   "cell_type": "markdown",
   "metadata": {},
   "source": [
    "# 1. Make the Initial Request\n",
    "\n",
    "## Querying\n",
    "\n",
    "Start by making an initial request to the Yelp API. Your search must include at least 2 parameters: **term** and **location**. For example, you might search for pizza restaurants in NYC. The term and location is up to you but make the request below.\n",
    "\n",
    "Use the `requests` library ([documentation here](https://requests.readthedocs.io/en/master/user/quickstart/#make-a-request)).\n",
    "\n",
    "You'll also need an API key from Yelp. If you haven't done this already, go to the Yelp [Manage App page](https://www.yelp.com/developers/v3/manage_app) and create a new app (after making an account if you haven't already)."
   ]
  },
  {
   "cell_type": "code",
   "execution_count": 33,
   "metadata": {},
   "outputs": [],
   "source": [
    "import json\n",
    "\n",
    "def get_keys(path):\n",
    "    with open(path) as f:\n",
    "        return json.load(f)"
   ]
  },
  {
   "cell_type": "code",
   "execution_count": 34,
   "metadata": {},
   "outputs": [
    {
     "name": "stdout",
     "output_type": "stream",
     "text": [
      "200\n",
      "True\n"
     ]
    }
   ],
   "source": [
    "# Replace None with appropriate code\n",
    "\n",
    "# Import the requests library\n",
    "import requests\n",
    "\n",
    "# Get this from the \"Manage App\" page. Make sure you set them\n",
    "# back to None before pushing this to GitHub, since otherwise\n",
    "# your credentials will be compromised\n",
    "\n",
    "keys = get_keys(\"yelp_api.json\")\n",
    "api_key = keys['api_key']\n",
    "\n",
    "# These can be whatever you want! But the solution uses \"pizza\"\n",
    "# and \"New York NY\" if you want to compare your work directly\n",
    "term = \"pizza\"\n",
    "location = \"New York NY\"\n",
    " \n",
    "# Set up params for request\n",
    "url = \"https://api.yelp.com/v3/businesses/search\"\n",
    "headers = {\n",
    "    \"Authorization\": \"Bearer {}\".format(api_key)\n",
    "}\n",
    "url_params = {\n",
    "    \"term\": term.replace(\" \", \"+\"),\n",
    "    \"location\": location.replace(\" \", \"+\")\n",
    "}\n",
    "\n",
    "# Make the request using requests.get, passing in\n",
    "# url, headers=headers, and params=url_params\n",
    "response = requests.get(url, headers=headers, params=url_params)\n",
    "# https://www.yelp.com/developers/documentation/v3/business_search\n",
    "\n",
    "# Confirm we got a 200 response\n",
    "\n",
    "print(requests.codes.ok)\n",
    "print(response.status_code == requests.codes.ok)\n",
    "\n",
    "# dict(response.headers)\n",
    "# print(response.url)\n",
    "# print(response.text)"
   ]
  },
  {
   "cell_type": "code",
   "execution_count": 35,
   "metadata": {},
   "outputs": [
    {
     "data": {
      "text/plain": [
       "dict_keys(['businesses', 'total', 'region'])"
      ]
     },
     "execution_count": 35,
     "metadata": {},
     "output_type": "execute_result"
    }
   ],
   "source": [
    "# Run this cell without changes\n",
    "\n",
    "# Get the response body in JSON format\n",
    "response_json = response.json()\n",
    "# View the keys\n",
    "response_json.keys()"
   ]
  },
  {
   "cell_type": "code",
   "execution_count": 36,
   "metadata": {},
   "outputs": [
    {
     "name": "stdout",
     "output_type": "stream",
     "text": [
      "Business\n",
      "<class 'list'>\n",
      "20\n",
      "\n",
      "Total\n",
      "<class 'int'>\n",
      "11800\n",
      "\n",
      "Region\n",
      "<class 'dict'>\n",
      "<class 'dict'>\n",
      "dict_keys(['longitude', 'latitude'])\n"
     ]
    }
   ],
   "source": [
    "print('Business')\n",
    "print(type(response_json['businesses']))\n",
    "print(len(response_json['businesses']))\n",
    "\n",
    "print('\\nTotal')\n",
    "print(type(response_json['total']))\n",
    "print(response_json['total'])\n",
    "\n",
    "print('\\nRegion')\n",
    "print(type(response_json['region'])) # Region key type = dict\n",
    "region = response_json['region'] # Set region variable\n",
    "print(type(region['center'])) # Center key type = dict\n",
    "center = region['center'] # Set center variable\n",
    "print(center.keys()) # Long / Lat"
   ]
  },
  {
   "cell_type": "markdown",
   "metadata": {},
   "source": [
    "## Extracting Data\n",
    "\n",
    "Now, retrieve the value associated with the `'businesses'` key, and inspect its contents."
   ]
  },
  {
   "cell_type": "code",
   "execution_count": 37,
   "metadata": {},
   "outputs": [
    {
     "name": "stdout",
     "output_type": "stream",
     "text": [
      "\n",
      "There are 20 businesses in this response\n"
     ]
    },
    {
     "data": {
      "text/plain": [
       "[{'id': 'zj8Lq1T8KIC5zwFief15jg',\n",
       "  'alias': 'prince-street-pizza-new-york-2',\n",
       "  'name': 'Prince Street Pizza',\n",
       "  'image_url': 'https://s3-media3.fl.yelpcdn.com/bphoto/ZAukOyv530w4KjOHC5YY1w/o.jpg',\n",
       "  'is_closed': False,\n",
       "  'url': 'https://www.yelp.com/biz/prince-street-pizza-new-york-2?adjust_creative=Autr_aWUiis-5UD_Bri39g&utm_campaign=yelp_api_v3&utm_medium=api_v3_business_search&utm_source=Autr_aWUiis-5UD_Bri39g',\n",
       "  'review_count': 3934,\n",
       "  'categories': [{'alias': 'pizza', 'title': 'Pizza'},\n",
       "   {'alias': 'italian', 'title': 'Italian'}],\n",
       "  'rating': 4.5,\n",
       "  'coordinates': {'latitude': 40.72308755605564,\n",
       "   'longitude': -73.99453001177575},\n",
       "  'transactions': ['pickup', 'delivery'],\n",
       "  'price': '$',\n",
       "  'location': {'address1': '27 Prince St',\n",
       "   'address2': None,\n",
       "   'address3': '',\n",
       "   'city': 'New York',\n",
       "   'zip_code': '10012',\n",
       "   'country': 'US',\n",
       "   'state': 'NY',\n",
       "   'display_address': ['27 Prince St', 'New York, NY 10012']},\n",
       "  'phone': '+12129664100',\n",
       "  'display_phone': '(212) 966-4100',\n",
       "  'distance': 1961.8771417367063},\n",
       " {'id': 'ysqgdbSrezXgVwER2kQWKA',\n",
       "  'alias': 'julianas-brooklyn-3',\n",
       "  'name': \"Juliana's\",\n",
       "  'image_url': 'https://s3-media2.fl.yelpcdn.com/bphoto/clscwgOF9_Ecq-Rwsq7jyQ/o.jpg',\n",
       "  'is_closed': False,\n",
       "  'url': 'https://www.yelp.com/biz/julianas-brooklyn-3?adjust_creative=Autr_aWUiis-5UD_Bri39g&utm_campaign=yelp_api_v3&utm_medium=api_v3_business_search&utm_source=Autr_aWUiis-5UD_Bri39g',\n",
       "  'review_count': 2338,\n",
       "  'categories': [{'alias': 'pizza', 'title': 'Pizza'}],\n",
       "  'rating': 4.5,\n",
       "  'coordinates': {'latitude': 40.70274718768062,\n",
       "   'longitude': -73.99343490196397},\n",
       "  'transactions': ['delivery'],\n",
       "  'price': '$$',\n",
       "  'location': {'address1': '19 Old Fulton St',\n",
       "   'address2': '',\n",
       "   'address3': '',\n",
       "   'city': 'Brooklyn',\n",
       "   'zip_code': '11201',\n",
       "   'country': 'US',\n",
       "   'state': 'NY',\n",
       "   'display_address': ['19 Old Fulton St', 'Brooklyn, NY 11201']},\n",
       "  'phone': '+17185966700',\n",
       "  'display_phone': '(718) 596-6700',\n",
       "  'distance': 308.56984360837544}]"
      ]
     },
     "execution_count": 37,
     "metadata": {},
     "output_type": "execute_result"
    }
   ],
   "source": [
    "# Replace None with appropriate code\n",
    "\n",
    "# Retrieve the value from response_json\n",
    "businesses = response_json['businesses']\n",
    "\n",
    "# View number of records\n",
    "print(f\"\\nThere are {len(businesses)} businesses in this response\")\n",
    "\n",
    "# View the first 2 records\n",
    "businesses[:2]"
   ]
  },
  {
   "cell_type": "markdown",
   "metadata": {},
   "source": [
    "# 2. Add Pagination\n",
    "\n",
    "Now that you are able to get one set of responses, known as a **page**, let's figure out how to request as many pages as possible.\n",
    "\n",
    "## Technical Details\n",
    "\n",
    "Returning to the Yelp API, the [documentation](https://www.yelp.com/developers/documentation/v3/business_search) also provides us details regarding the **API limits**. These often include details about the number of requests a user is allowed to make within a specified time limit and the maximum number of results to be returned. In this case, we are told that any request has a **maximum of 50 results per request** and defaults to 20. Furthermore, any search will be limited to a **total of 1000 results**. To retrieve all 1000 of these results, we would have to page through the results piece by piece, retrieving 50 at a time. Processes such as these are often referred to as pagination.\n",
    "\n",
    "Also, be mindful of the **API** ***rate*** **limits**. You can only make **5000 requests per day** and are also can make requests too fast. Start prototyping small before running a loop that could be faulty. You can also use `time.sleep(n)` to add delays. For more details see https://www.yelp.com/developers/documentation/v3/rate_limiting.\n",
    "\n",
    "In this lab, you will define a search and then paginate over the results to retrieve all of the results. You'll then parse these responses as a list of dictionaries (for further exploration) and create a map using Folium to visualize the results geographically.\n",
    "\n",
    "## Determining the Total\n",
    "\n",
    "Depending on the number of total results for your query, you will either retrieve all of the results, or just the first 1000 (if there are more than 1000 total).\n",
    "\n",
    "We can find the total number of results using the `\"total\"` key:"
   ]
  },
  {
   "cell_type": "code",
   "execution_count": 38,
   "metadata": {},
   "outputs": [
    {
     "data": {
      "text/plain": [
       "11800"
      ]
     },
     "execution_count": 38,
     "metadata": {},
     "output_type": "execute_result"
    }
   ],
   "source": [
    "# Run this cell without changes\n",
    "response_json[\"total\"]"
   ]
  },
  {
   "cell_type": "markdown",
   "metadata": {},
   "source": [
    "(This is specific to the implementation of the Yelp API. Some APIs will just tell you that there are more pages, or will tell you the number of pages total, rather than the total number of results. If you're not sure, always check the documentation.)\n",
    "\n",
    "In the cell below, assign the variable `total` to either the value shown above (if it is less than 1000), or 1000."
   ]
  },
  {
   "cell_type": "code",
   "execution_count": 39,
   "metadata": {},
   "outputs": [
    {
     "data": {
      "text/plain": [
       "1000"
      ]
     },
     "execution_count": 39,
     "metadata": {},
     "output_type": "execute_result"
    }
   ],
   "source": [
    "# Replace None with appropriate code\n",
    "\n",
    "if response_json[\"total\"] < 1000:\n",
    "    total = response_json[\"total\"]\n",
    "else:\n",
    "    total = 1000\n",
    "    \n",
    "total"
   ]
  },
  {
   "cell_type": "markdown",
   "metadata": {},
   "source": [
    "### Calculating the Offsets\n",
    "\n",
    "The documentation states in the parameters section:\n",
    "\n",
    "> **Name**: `limit`, **Type:** int, **Description:** Optional. Number of business results to return. By default, it will return 20. Maximum is 50.\n",
    "\n",
    "> **Name**: `offset`, **Type:** int, **Description:** Optional. Offset the list of returned business results by this amount.\n",
    "\n",
    "So, to get the most results with the fewest API calls we want to set a limit of 50 every time. If, say, we wanted to get 210 total results, that would mean:\n",
    "\n",
    "1. Offset of `0` (first 50 records)\n",
    "2. Offset of `50` (second 50 records)\n",
    "3. Offset of `100` (third 50 records)\n",
    "4. Offset of `150` (fourth 50 records)\n",
    "5. Offset of `200` (final 10 records)\n",
    "\n",
    "In the cell below, create a function `get_offsets` that takes in a total and returns a list of offsets for that total. You can assume that there is a limit of 50 every time.\n",
    "\n",
    "*Hint: you can use `range` ([documentation here](https://docs.python.org/3.3/library/stdtypes.html?highlight=range#range)) to do this in one line of code. Just make the returned result is a list.*"
   ]
  },
  {
   "cell_type": "code",
   "execution_count": 40,
   "metadata": {},
   "outputs": [],
   "source": [
    "# Replace None with appropriate code\n",
    "def get_offsets(total):\n",
    "    \"\"\"\n",
    "    Get a list of offsets needed to get all pages\n",
    "    of data up until the total\n",
    "    \"\"\"\n",
    "    \n",
    "    start = 0\n",
    "    stop = total\n",
    "    step = 50\n",
    "\n",
    "    return list(range(start, stop, step))\n",
    "\n",
    "    # https://www.programiz.com/python-programming/methods/built-in/range"
   ]
  },
  {
   "cell_type": "markdown",
   "metadata": {},
   "source": [
    "Check that your function works below:"
   ]
  },
  {
   "cell_type": "code",
   "execution_count": 41,
   "metadata": {},
   "outputs": [],
   "source": [
    "# Run this cell without changes\n",
    "\n",
    "assert get_offsets(200) == [0, 50, 100, 150]\n",
    "assert get_offsets(210) == [0, 50, 100, 150, 200]\n",
    "\n",
    "# print(get_offsets(200))\n",
    "# print(get_offsets(210))"
   ]
  },
  {
   "cell_type": "markdown",
   "metadata": {},
   "source": [
    "### Putting It All Together\n",
    "\n",
    "Recall that the following variable has already been declared for you:"
   ]
  },
  {
   "cell_type": "code",
   "execution_count": 42,
   "metadata": {},
   "outputs": [
    {
     "data": {
      "text/plain": [
       "{'term': 'pizza', 'location': 'New+York+NY'}"
      ]
     },
     "execution_count": 42,
     "metadata": {},
     "output_type": "execute_result"
    }
   ],
   "source": [
    "# Run this cell without changes\n",
    "url_params"
   ]
  },
  {
   "cell_type": "markdown",
   "metadata": {},
   "source": [
    "We'll go ahead and also specify that the limit should be 50 every time:"
   ]
  },
  {
   "cell_type": "code",
   "execution_count": 43,
   "metadata": {},
   "outputs": [],
   "source": [
    "# Run this cell without changes\n",
    "url_params[\"limit\"] = 50"
   ]
  },
  {
   "cell_type": "markdown",
   "metadata": {},
   "source": [
    "In order to modify the offset, you'll need to add it to `url_params` with the key `\"offset\"` and whatever value is needed.\n",
    "\n",
    "In the cell below, write code that:\n",
    "\n",
    "* Creates an empty list for the full prepared dataset\n",
    "* Loops over all of the offsets from `get_offsets` and makes an API call each time with the specified offset\n",
    "* Extends the full dataset list with each query's dataset"
   ]
  },
  {
   "cell_type": "code",
   "execution_count": 14,
   "metadata": {},
   "outputs": [
    {
     "data": {
      "text/plain": [
       "1000"
      ]
     },
     "execution_count": 14,
     "metadata": {},
     "output_type": "execute_result"
    }
   ],
   "source": [
    "# Replace None with appropriate code\n",
    "\n",
    "# Create an empty list for the full prepared dataset\n",
    "full_dataset = []\n",
    "\n",
    "for offset in get_offsets(total):\n",
    "    # Add or update the \"offset\" key-value pair in url_params\n",
    "    url_params[\"offset\"] = offset\n",
    "    \n",
    "    # Make the query and get the response\n",
    "    response = requests.get(url, headers=headers, params=url_params)\n",
    "    \n",
    "    # Get the response body in JSON format\n",
    "    response_json = response.json()\n",
    "    \n",
    "    # Get the list of businesses from the response_json\n",
    "    businesses = response_json['businesses']\n",
    "    \n",
    "    # Extend full_dataset with this list (don't append, or you'll get\n",
    "    # a list of lists instead of a flat list)\n",
    "    for business in businesses:\n",
    "        full_dataset.append(business)\n",
    "\n",
    "# Check the length of the full dataset. It will be up to `total`,\n",
    "# potentially less if there were missing values\n",
    "len(full_dataset)"
   ]
  },
  {
   "cell_type": "markdown",
   "metadata": {},
   "source": [
    "This code may take up to a few minutes to run.\n",
    "\n",
    "If you get an error trying to get the response body in JSON format, try adding `time.sleep(1)` right after the `requests.get` line, so your code will sleep for 1 second between each API call."
   ]
  },
  {
   "cell_type": "markdown",
   "metadata": {},
   "source": [
    "# 3. Prepare Data\n",
    "\n",
    "Now that we have all of our data, let's prepare it for analysis. It can be helpful to start this process by inspecting the raw data."
   ]
  },
  {
   "cell_type": "code",
   "execution_count": 44,
   "metadata": {
    "scrolled": false
   },
   "outputs": [],
   "source": [
    "# Run this cell without changes\n",
    "\n",
    "# View the first 2 records\n",
    "# full_dataset[:2]\n",
    "first_record = full_dataset[0]"
   ]
  },
  {
   "cell_type": "code",
   "execution_count": 45,
   "metadata": {},
   "outputs": [
    {
     "data": {
      "text/plain": [
       "dict_keys(['id', 'alias', 'name', 'image_url', 'is_closed', 'url', 'review_count', 'categories', 'rating', 'coordinates', 'transactions', 'price', 'location', 'phone', 'display_phone', 'distance'])"
      ]
     },
     "execution_count": 45,
     "metadata": {},
     "output_type": "execute_result"
    }
   ],
   "source": [
    "first_record.keys()"
   ]
  },
  {
   "cell_type": "code",
   "execution_count": 46,
   "metadata": {
    "scrolled": true
   },
   "outputs": [
    {
     "name": "stdout",
     "output_type": "stream",
     "text": [
      "Prince Street Pizza\n",
      "3934\n",
      "4.5\n",
      "$\n",
      "{'latitude': 40.72308755605564, 'longitude': -73.99453001177575}\n",
      "40.72308755605564\n",
      "-73.99453001177575\n"
     ]
    }
   ],
   "source": [
    "print(first_record['name'])\n",
    "print(first_record['review_count'])\n",
    "print(first_record['rating'])\n",
    "print(first_record['price'])\n",
    "print(first_record['coordinates'])\n",
    "print(first_record['coordinates']['latitude'])\n",
    "print(first_record['coordinates']['longitude'])"
   ]
  },
  {
   "cell_type": "markdown",
   "metadata": {},
   "source": [
    "Write a function `prepare_data` that takes in a list of dictionaries like `businesses` and returns a copy that has been prepared for analysis:\n",
    "\n",
    "1. The `coordinates` key-value pair has been converted into two separate key-value pairs, `latitude` and `longitude`\n",
    "2. All other key-value pairs except for `name`, `review_count`, `rating`, and `price` have been dropped\n",
    "3. All dictionaries missing one of the relevant keys or containing null values have been dropped\n",
    "\n",
    "In other words, the final keys for each dictionary should be `name`, `review_count`, `rating`, `price`, `latitude`, and `longitude`.\n",
    "\n",
    "Complete the function in the cell below:"
   ]
  },
  {
   "cell_type": "code",
   "execution_count": 47,
   "metadata": {
    "scrolled": true
   },
   "outputs": [
    {
     "data": {
      "text/plain": [
       "[{'name': 'Prince Street Pizza',\n",
       "  'review_count': 3934,\n",
       "  'rating': 4.5,\n",
       "  'price': '$',\n",
       "  'latitude': 40.72308755605564,\n",
       "  'longitude': -73.99453001177575},\n",
       " {'name': \"Juliana's\",\n",
       "  'review_count': 2338,\n",
       "  'rating': 4.5,\n",
       "  'price': '$$',\n",
       "  'latitude': 40.70274718768062,\n",
       "  'longitude': -73.99343490196397},\n",
       " {'name': \"Lombardi's Pizza\",\n",
       "  'review_count': 6179,\n",
       "  'rating': 4.0,\n",
       "  'price': '$$',\n",
       "  'latitude': 40.7215934960083,\n",
       "  'longitude': -73.9955956044561},\n",
       " {'name': 'Lucali',\n",
       "  'review_count': 1697,\n",
       "  'rating': 4.0,\n",
       "  'price': '$$',\n",
       "  'latitude': 40.6818,\n",
       "  'longitude': -74.00024},\n",
       " {'name': 'Rubirosa',\n",
       "  'review_count': 2420,\n",
       "  'rating': 4.5,\n",
       "  'price': '$$',\n",
       "  'latitude': 40.722766,\n",
       "  'longitude': -73.996233}]"
      ]
     },
     "execution_count": 47,
     "metadata": {},
     "output_type": "execute_result"
    }
   ],
   "source": [
    "# Replace None with appropriate code\n",
    "\n",
    "def prepare_data(data_list):\n",
    "    \"\"\"\n",
    "    This function takes in a list of dictionaries and prepares it\n",
    "    for analysis\n",
    "    \"\"\"\n",
    "    \n",
    "    # Make a new list to hold results\n",
    "    results = []\n",
    "    keys = ['name', 'review_count', 'rating', 'price']\n",
    "    \n",
    "    for business_data in data_list:\n",
    "    \n",
    "        # Make a new dictionary to hold prepared data for this business\n",
    "        prepared_data = {}\n",
    "        \n",
    "        # Extract name, review_count, rating, and price key-value pairs\n",
    "        # from business_data and add to prepared_data\n",
    "        \n",
    "        business_keys = business_data.keys()\n",
    "        \n",
    "        # If a key is not present in business_data, add it to prepared_data\n",
    "        # with an associated value of None\n",
    "        \n",
    "        for key in keys:\n",
    "            if key in business_keys:\n",
    "                prepared_data[key] = business_data[key]\n",
    "            else:\n",
    "                prepared_data[key] = 'None'    \n",
    "                \n",
    "#         prepared_data['name'] = business_data['name']\n",
    "#         prepared_data['review_count'] = business_data['review_count']\n",
    "#         prepared_data['rating'] = business_data['rating']\n",
    "#         prepared_data['price'] = business_data['price']\n",
    "                \n",
    "        # Parse and add latitude and longitude columns\n",
    "        \n",
    "        prepared_data['latitude'] = business_data['coordinates']['latitude']\n",
    "        prepared_data['longitude'] = business_data['coordinates']['longitude']\n",
    "        \n",
    "#         # Add to list if all values are present\n",
    "#         if all(prepared_data.values()):\n",
    "#             results.append(prepared_data)\n",
    "\n",
    "        results.append(prepared_data)\n",
    "    \n",
    "    return results\n",
    "    \n",
    "# Test out function\n",
    "prepared_businesses = prepare_data(full_dataset)\n",
    "prepared_businesses[:5]"
   ]
  },
  {
   "cell_type": "markdown",
   "metadata": {},
   "source": [
    "Check that your function created the correct keys:"
   ]
  },
  {
   "cell_type": "code",
   "execution_count": 48,
   "metadata": {},
   "outputs": [],
   "source": [
    "# Run this cell without changes\n",
    "\n",
    "assert sorted(list(prepared_businesses[0].keys())) == ['latitude', 'longitude', 'name', 'price', 'rating', 'review_count']"
   ]
  },
  {
   "cell_type": "markdown",
   "metadata": {},
   "source": [
    "The following code will differ depending on your query, but there may be fewer results in the prepared list than in the full dataset (if any of them were missing data):"
   ]
  },
  {
   "cell_type": "code",
   "execution_count": 49,
   "metadata": {},
   "outputs": [
    {
     "name": "stdout",
     "output_type": "stream",
     "text": [
      "Original: 1000\n",
      "Prepared: 1000\n"
     ]
    }
   ],
   "source": [
    "# Run this cell without changes\n",
    "print(\"Original:\", len(full_dataset))\n",
    "print(\"Prepared:\", len(prepared_businesses))"
   ]
  },
  {
   "cell_type": "markdown",
   "metadata": {},
   "source": [
    "Great! Now let's create a DataFrame to hold our data - this will make our cleaning and analysis easier."
   ]
  },
  {
   "cell_type": "code",
   "execution_count": 50,
   "metadata": {
    "scrolled": true
   },
   "outputs": [
    {
     "data": {
      "text/html": [
       "<div>\n",
       "<style scoped>\n",
       "    .dataframe tbody tr th:only-of-type {\n",
       "        vertical-align: middle;\n",
       "    }\n",
       "\n",
       "    .dataframe tbody tr th {\n",
       "        vertical-align: top;\n",
       "    }\n",
       "\n",
       "    .dataframe thead th {\n",
       "        text-align: right;\n",
       "    }\n",
       "</style>\n",
       "<table border=\"1\" class=\"dataframe\">\n",
       "  <thead>\n",
       "    <tr style=\"text-align: right;\">\n",
       "      <th></th>\n",
       "      <th>name</th>\n",
       "      <th>review_count</th>\n",
       "      <th>rating</th>\n",
       "      <th>price</th>\n",
       "      <th>latitude</th>\n",
       "      <th>longitude</th>\n",
       "    </tr>\n",
       "  </thead>\n",
       "  <tbody>\n",
       "    <tr>\n",
       "      <th>0</th>\n",
       "      <td>Prince Street Pizza</td>\n",
       "      <td>3934</td>\n",
       "      <td>4.5</td>\n",
       "      <td>$</td>\n",
       "      <td>40.723088</td>\n",
       "      <td>-73.994530</td>\n",
       "    </tr>\n",
       "    <tr>\n",
       "      <th>1</th>\n",
       "      <td>Juliana's</td>\n",
       "      <td>2338</td>\n",
       "      <td>4.5</td>\n",
       "      <td>$$</td>\n",
       "      <td>40.702747</td>\n",
       "      <td>-73.993435</td>\n",
       "    </tr>\n",
       "    <tr>\n",
       "      <th>2</th>\n",
       "      <td>Lombardi's Pizza</td>\n",
       "      <td>6179</td>\n",
       "      <td>4.0</td>\n",
       "      <td>$$</td>\n",
       "      <td>40.721593</td>\n",
       "      <td>-73.995596</td>\n",
       "    </tr>\n",
       "    <tr>\n",
       "      <th>3</th>\n",
       "      <td>Lucali</td>\n",
       "      <td>1697</td>\n",
       "      <td>4.0</td>\n",
       "      <td>$$</td>\n",
       "      <td>40.681800</td>\n",
       "      <td>-74.000240</td>\n",
       "    </tr>\n",
       "    <tr>\n",
       "      <th>4</th>\n",
       "      <td>Rubirosa</td>\n",
       "      <td>2420</td>\n",
       "      <td>4.5</td>\n",
       "      <td>$$</td>\n",
       "      <td>40.722766</td>\n",
       "      <td>-73.996233</td>\n",
       "    </tr>\n",
       "  </tbody>\n",
       "</table>\n",
       "</div>"
      ],
      "text/plain": [
       "                  name  review_count  rating price   latitude  longitude\n",
       "0  Prince Street Pizza          3934     4.5     $  40.723088 -73.994530\n",
       "1            Juliana's          2338     4.5    $$  40.702747 -73.993435\n",
       "2     Lombardi's Pizza          6179     4.0    $$  40.721593 -73.995596\n",
       "3               Lucali          1697     4.0    $$  40.681800 -74.000240\n",
       "4             Rubirosa          2420     4.5    $$  40.722766 -73.996233"
      ]
     },
     "execution_count": 50,
     "metadata": {},
     "output_type": "execute_result"
    }
   ],
   "source": [
    "# Replace None with appropriate code\n",
    "\n",
    "# Import pandas\n",
    "import pandas as pd\n",
    "\n",
    "# Create DataFrame from prepared business data\n",
    "business_df = pd.DataFrame(prepared_businesses)\n",
    "\n",
    "# Inspect the DataFrame\n",
    "business_df.head()"
   ]
  },
  {
   "cell_type": "code",
   "execution_count": 51,
   "metadata": {},
   "outputs": [
    {
     "name": "stdout",
     "output_type": "stream",
     "text": [
      "Dataframe info\n",
      "(1000, 6)\n",
      "RangeIndex(start=0, stop=1000, step=1)\n",
      "Index(['name', 'review_count', 'rating', 'price', 'latitude', 'longitude'], dtype='object')\n",
      "name             object\n",
      "review_count      int64\n",
      "rating          float64\n",
      "price            object\n",
      "latitude        float64\n",
      "longitude       float64\n",
      "dtype: object\n"
     ]
    }
   ],
   "source": [
    "print('Dataframe info')\n",
    "# https://www.datacamp.com/community/blog/python-pandas-cheat-sheet\n",
    "\n",
    "print(business_df.shape)\n",
    "print(business_df.index)\n",
    "print(business_df.columns)\n",
    "# print(business_df.count)\n",
    "print(business_df.dtypes)\n",
    "# print(business_df.info)\n",
    "# print(business_df.describe)"
   ]
  },
  {
   "cell_type": "markdown",
   "metadata": {},
   "source": [
    "To make analysis of prices easier, let's convert `price` to a numeric value indicating the number of dollar signs."
   ]
  },
  {
   "cell_type": "code",
   "execution_count": 52,
   "metadata": {
    "scrolled": false
   },
   "outputs": [
    {
     "data": {
      "text/html": [
       "<div>\n",
       "<style scoped>\n",
       "    .dataframe tbody tr th:only-of-type {\n",
       "        vertical-align: middle;\n",
       "    }\n",
       "\n",
       "    .dataframe tbody tr th {\n",
       "        vertical-align: top;\n",
       "    }\n",
       "\n",
       "    .dataframe thead th {\n",
       "        text-align: right;\n",
       "    }\n",
       "</style>\n",
       "<table border=\"1\" class=\"dataframe\">\n",
       "  <thead>\n",
       "    <tr style=\"text-align: right;\">\n",
       "      <th></th>\n",
       "      <th>name</th>\n",
       "      <th>review_count</th>\n",
       "      <th>rating</th>\n",
       "      <th>price</th>\n",
       "      <th>latitude</th>\n",
       "      <th>longitude</th>\n",
       "    </tr>\n",
       "  </thead>\n",
       "  <tbody>\n",
       "    <tr>\n",
       "      <th>0</th>\n",
       "      <td>Prince Street Pizza</td>\n",
       "      <td>3934</td>\n",
       "      <td>4.5</td>\n",
       "      <td>1</td>\n",
       "      <td>40.723088</td>\n",
       "      <td>-73.994530</td>\n",
       "    </tr>\n",
       "    <tr>\n",
       "      <th>1</th>\n",
       "      <td>Juliana's</td>\n",
       "      <td>2338</td>\n",
       "      <td>4.5</td>\n",
       "      <td>2</td>\n",
       "      <td>40.702747</td>\n",
       "      <td>-73.993435</td>\n",
       "    </tr>\n",
       "    <tr>\n",
       "      <th>2</th>\n",
       "      <td>Lombardi's Pizza</td>\n",
       "      <td>6179</td>\n",
       "      <td>4.0</td>\n",
       "      <td>2</td>\n",
       "      <td>40.721593</td>\n",
       "      <td>-73.995596</td>\n",
       "    </tr>\n",
       "    <tr>\n",
       "      <th>3</th>\n",
       "      <td>Lucali</td>\n",
       "      <td>1697</td>\n",
       "      <td>4.0</td>\n",
       "      <td>2</td>\n",
       "      <td>40.681800</td>\n",
       "      <td>-74.000240</td>\n",
       "    </tr>\n",
       "    <tr>\n",
       "      <th>4</th>\n",
       "      <td>Rubirosa</td>\n",
       "      <td>2420</td>\n",
       "      <td>4.5</td>\n",
       "      <td>2</td>\n",
       "      <td>40.722766</td>\n",
       "      <td>-73.996233</td>\n",
       "    </tr>\n",
       "  </tbody>\n",
       "</table>\n",
       "</div>"
      ],
      "text/plain": [
       "                  name  review_count  rating  price   latitude  longitude\n",
       "0  Prince Street Pizza          3934     4.5      1  40.723088 -73.994530\n",
       "1            Juliana's          2338     4.5      2  40.702747 -73.993435\n",
       "2     Lombardi's Pizza          6179     4.0      2  40.721593 -73.995596\n",
       "3               Lucali          1697     4.0      2  40.681800 -74.000240\n",
       "4             Rubirosa          2420     4.5      2  40.722766 -73.996233"
      ]
     },
     "execution_count": 52,
     "metadata": {},
     "output_type": "execute_result"
    }
   ],
   "source": [
    "# Replace None with appropriate code\n",
    "\n",
    "business_df['price'] = (business_df['price']).str.len()\n",
    "\n",
    "# business_df['price'] = business_df['price'].replace('$', \"1\")\n",
    "# business_df['price'] = business_df['price'].replace('$$', \"2\")\n",
    "# business_df['price'] = business_df['price'].replace('$$$', \"3\")\n",
    "# business_df['price'] = business_df['price'].replace('$$$$', \"4\")\n",
    "# https://www.geeksforgeeks.org/python-pandas-series-str-replace-to-replace-text-in-a-series/\n",
    "\n",
    "# business_df['price'] = business_df['price'].apply(pd.to_numeric)\n",
    "# https://intellipaat.com/community/2601/change-data-type-of-columns-in-pandas\n",
    "\n",
    "# business_df.loc[business_df['price'] == '$', 'price'] = 1\n",
    "# business_df.loc[business_df['price'] == '$$', 'price'] = 2\n",
    "# business_df.loc[business_df['price'] == '$$$', 'price'] = 3\n",
    "# business_df.loc[business_df['price'] == '$$$$', 'price'] = 4\n",
    "\n",
    "# business_df['price'] =  business_df['price'].astype(int)\n",
    "\n",
    "business_df.head()"
   ]
  },
  {
   "cell_type": "markdown",
   "metadata": {},
   "source": [
    "# 4. Perform Descriptive Analysis\n",
    "\n",
    "## Descriptive Statistics\n",
    "\n",
    "Take the businesses from the previous question and do an initial descriptive analysis. Calculate summary statistics for the review counts, average rating, and price."
   ]
  },
  {
   "cell_type": "code",
   "execution_count": 53,
   "metadata": {},
   "outputs": [
    {
     "data": {
      "text/html": [
       "<div>\n",
       "<style scoped>\n",
       "    .dataframe tbody tr th:only-of-type {\n",
       "        vertical-align: middle;\n",
       "    }\n",
       "\n",
       "    .dataframe tbody tr th {\n",
       "        vertical-align: top;\n",
       "    }\n",
       "\n",
       "    .dataframe thead th {\n",
       "        text-align: right;\n",
       "    }\n",
       "</style>\n",
       "<table border=\"1\" class=\"dataframe\">\n",
       "  <thead>\n",
       "    <tr style=\"text-align: right;\">\n",
       "      <th></th>\n",
       "      <th>price</th>\n",
       "      <th>rating</th>\n",
       "      <th>review_count</th>\n",
       "    </tr>\n",
       "  </thead>\n",
       "  <tbody>\n",
       "    <tr>\n",
       "      <th>count</th>\n",
       "      <td>1000.00</td>\n",
       "      <td>1000.00</td>\n",
       "      <td>1000.00</td>\n",
       "    </tr>\n",
       "    <tr>\n",
       "      <th>mean</th>\n",
       "      <td>2.14</td>\n",
       "      <td>3.99</td>\n",
       "      <td>346.68</td>\n",
       "    </tr>\n",
       "    <tr>\n",
       "      <th>std</th>\n",
       "      <td>1.11</td>\n",
       "      <td>0.52</td>\n",
       "      <td>608.11</td>\n",
       "    </tr>\n",
       "    <tr>\n",
       "      <th>min</th>\n",
       "      <td>1.00</td>\n",
       "      <td>1.00</td>\n",
       "      <td>1.00</td>\n",
       "    </tr>\n",
       "    <tr>\n",
       "      <th>25%</th>\n",
       "      <td>1.00</td>\n",
       "      <td>3.50</td>\n",
       "      <td>49.75</td>\n",
       "    </tr>\n",
       "    <tr>\n",
       "      <th>50%</th>\n",
       "      <td>2.00</td>\n",
       "      <td>4.00</td>\n",
       "      <td>160.00</td>\n",
       "    </tr>\n",
       "    <tr>\n",
       "      <th>75%</th>\n",
       "      <td>3.00</td>\n",
       "      <td>4.50</td>\n",
       "      <td>383.25</td>\n",
       "    </tr>\n",
       "    <tr>\n",
       "      <th>max</th>\n",
       "      <td>4.00</td>\n",
       "      <td>5.00</td>\n",
       "      <td>6385.00</td>\n",
       "    </tr>\n",
       "  </tbody>\n",
       "</table>\n",
       "</div>"
      ],
      "text/plain": [
       "         price   rating  review_count\n",
       "count  1000.00  1000.00       1000.00\n",
       "mean      2.14     3.99        346.68\n",
       "std       1.11     0.52        608.11\n",
       "min       1.00     1.00          1.00\n",
       "25%       1.00     3.50         49.75\n",
       "50%       2.00     4.00        160.00\n",
       "75%       3.00     4.50        383.25\n",
       "max       4.00     5.00       6385.00"
      ]
     },
     "execution_count": 53,
     "metadata": {},
     "output_type": "execute_result"
    }
   ],
   "source": [
    "# Replace None with appropriate code\n",
    "\n",
    "# Calculate summary statistics for the review counts, average rating, and price\n",
    "# print('Mean')\n",
    "# print('Review count: ', business_df['review_count'].mean())\n",
    "# print('Rating: ', business_df['rating'].mean().round(2))\n",
    "# print('Price: ', business_df['price'].mean().round(2))\n",
    "\n",
    "# print('\\nMedian')\n",
    "# print('Review count: ', business_df['review_count'].median())\n",
    "# print('Rating: ', business_df['rating'].median())\n",
    "# print('Price: ', business_df['price'].median())\n",
    "\n",
    "# # print('\\nRatings')\n",
    "# # business_df.groupby('rating').sum()\n",
    "\n",
    "# print('\\nStandard deviation')\n",
    "# print('Review count: ', business_df['review_count'].std().round(2))\n",
    "# print('Rating: ', business_df['rating'].std().round(2))\n",
    "# print('Price: ', business_df['price'].std().round(2))\n",
    "\n",
    "business_df[['price', 'rating', 'review_count']].describe().round(2)"
   ]
  },
  {
   "cell_type": "markdown",
   "metadata": {},
   "source": [
    "Describe the results displayed above and interpret them in the context of your query. (Your answer may differ from the solution branch depending on your query.)"
   ]
  },
  {
   "cell_type": "code",
   "execution_count": 54,
   "metadata": {},
   "outputs": [
    {
     "data": {
      "text/plain": [
       "\"\\nUsing a selection of 1000 Yelp restaurant reviews of New York 'pizza' restaurants, we can see that:\\n- Each restaurant has on average 350 reviews (Source: Mean)\\n- The average rating is 4 out of 5 (Source: Mean & Median)\\n- Do something about the max (review_count)\\n\""
      ]
     },
     "execution_count": 54,
     "metadata": {},
     "output_type": "execute_result"
    }
   ],
   "source": [
    "# Replace None with appropriate text\n",
    "\"\"\"\n",
    "Using a selection of 1000 Yelp restaurant reviews of New York 'pizza' restaurants, we can see that:\n",
    "- Each restaurant has on average 350 reviews (Source: Mean)\n",
    "- The average rating is 4 out of 5 (Source: Mean & Median)\n",
    "- Do something about the max (review_count)\n",
    "\"\"\""
   ]
  },
  {
   "cell_type": "markdown",
   "metadata": {},
   "source": [
    "## Histograms\n",
    "\n",
    "Create histograms for the review counts, average rating, and price."
   ]
  },
  {
   "cell_type": "code",
   "execution_count": 55,
   "metadata": {
    "scrolled": false
   },
   "outputs": [
    {
     "data": {
      "image/png": "[encoded data removed]",
      "text/plain": [
       "<Figure size 1152x360 with 3 Axes>"
      ]
     },
     "metadata": {
      "needs_background": "light"
     },
     "output_type": "display_data"
    }
   ],
   "source": [
    "# Replace None with your code\n",
    "import matplotlib.pyplot as plt\n",
    "%matplotlib inline\n",
    "\n",
    "fig, (ax1, ax2, ax3) = plt.subplots(ncols=3, figsize=(16, 5))\n",
    "\n",
    "# Plot distribution of number of reviews per business\n",
    "all_review_counts = ax1.hist(business_df['review_count'], bins=25, color='#86bf91')\n",
    "\n",
    "ax1.set(title = \"Reviews\",\n",
    "       xlabel = \"Number of Reviews\", \n",
    "       ylabel = \"Number of Restaurants\")\n",
    "\n",
    "# Plot distribution of ratings across businesses\n",
    "all_ratings = ax2.hist(business_df['rating'], bins=5, color='#86bf91')\n",
    "\n",
    "ax2.set(title = \"Ratings\",\n",
    "       xlabel = \"Rating\", \n",
    "       ylabel = \"Count\")\n",
    "\n",
    "# Plot distribution of prices across businesses\n",
    "all_prices = ax3.hist(business_df['price'], bins=5, color='#86bf91')\n",
    "\n",
    "ax3.set(title = \"Price\",\n",
    "       xlabel = \"Average Price\", \n",
    "       ylabel = \"Count\");\n",
    "\n",
    "# https://matplotlib.org/stable/gallery/statistics/hist.html\n",
    "# https://www.earthdatascience.org/courses/scientists-guide-to-plotting-data-in-python/plot-with-matplotlib/introduction-to-matplotlib-plots/customize-plot-colors-labels-matplotlib/"
   ]
  },
  {
   "cell_type": "markdown",
   "metadata": {},
   "source": [
    "Describe the distributions displayed above and interpret them in the context of your query. (Your answer may differ from the solution branch depending on your query.)"
   ]
  },
  {
   "cell_type": "code",
   "execution_count": null,
   "metadata": {},
   "outputs": [],
   "source": [
    "# Replace None with appropriate text\n",
    "\"\"\"\n",
    "From the Reviews Histogram we can see that:\n",
    "- There is a large spread in the amount of reviews across restaurants - 0 to ~6000 reviews (review this)\n",
    "- Most restaurants have <1000 reviews, with the majority <500\n",
    "- This data is heavily skewed\n",
    "\n",
    "From the Ratings Histogram we can infer that:\n",
    "- The most common rating is 4 out of 5 stars\n",
    "- The second most common is 5 out of 5\n",
    "- This data is heavily skewed\n",
    "\n",
    "From the Price Histogram we can see that:\n",
    "- The majority of reviews give a price rating of 1 - 2 = $ & $$\n",
    "\"\"\""
   ]
  },
  {
   "cell_type": "markdown",
   "metadata": {},
   "source": [
    "## Ratings vs. Price\n",
    "\n",
    "Create a visualization showing the relationship between rating and price. You can do this a few different ways - one option could be to show the average price at each rating using a bar chart."
   ]
  },
  {
   "cell_type": "code",
   "execution_count": 56,
   "metadata": {},
   "outputs": [
    {
     "data": {
      "image/png": "[encoded data removed]",
      "text/plain": [
       "<Figure size 432x288 with 1 Axes>"
      ]
     },
     "metadata": {
      "needs_background": "light"
     },
     "output_type": "display_data"
    }
   ],
   "source": [
    "# Replace None with your code\n",
    "\n",
    "# Calculate average price for each rating\n",
    "rvg = business_df.groupby('rating').agg({'price': 'mean'})\n",
    "\n",
    "# Plot results\n",
    "fig, ax = plt.subplots()\n",
    "\n",
    "ax.bar(x = list(rvg.index),\n",
    "       height = list(rvg['price']),\n",
    "       width = (0.4),\n",
    "       color = '#86bf91')\n",
    "\n",
    "ax.set(title = \"Ratings vs Price\", \n",
    "       xlabel = \"Average rating\", \n",
    "       ylabel = \"Average price\");"
   ]
  },
  {
   "cell_type": "markdown",
   "metadata": {},
   "source": [
    "Is a higher price associated with a higher rating? (No need for any additional math/statistics, just interpret what you see in the plot.)"
   ]
  },
  {
   "cell_type": "code",
   "execution_count": null,
   "metadata": {},
   "outputs": [],
   "source": [
    "# Replace None with appropriate text\n",
    "\"\"\"\n",
    "No, there's no association between price and higher rating.\n",
    "\"\"\""
   ]
  },
  {
   "cell_type": "markdown",
   "metadata": {},
   "source": [
    "## Ratings vs Review Counts\n",
    "\n",
    "Finally, let's look at ratings vs. review counts. You can analyze this relationship similarly to ratings vs. price."
   ]
  },
  {
   "cell_type": "code",
   "execution_count": 57,
   "metadata": {},
   "outputs": [
    {
     "data": {
      "image/png": "[encoded data removed]",
      "text/plain": [
       "<Figure size 432x288 with 1 Axes>"
      ]
     },
     "metadata": {
      "needs_background": "light"
     },
     "output_type": "display_data"
    }
   ],
   "source": [
    "# Replace None with your code\n",
    "\n",
    "# Calculate average review count for each rating\n",
    "rating_review_count = business_df.groupby('rating').agg({'review_count': 'mean'})\n",
    "\n",
    "# Plot results\n",
    "fig, ax = plt.subplots()\n",
    "\n",
    "ax.bar(x = list(rating_review_count.index),\n",
    "       height = list(rating_review_count['review_count']),\n",
    "       width = 0.3,\n",
    "       color = '#86bf91')\n",
    "\n",
    "ax.set(title = \"Ratings vs Reviews\", \n",
    "       xlabel = \"Average Rating\", \n",
    "       ylabel = \"Average Review Count\");"
   ]
  },
  {
   "cell_type": "markdown",
   "metadata": {},
   "source": [
    "Is a higher number of reviews associated with a higher rating?"
   ]
  },
  {
   "cell_type": "code",
   "execution_count": 93,
   "metadata": {},
   "outputs": [
    {
     "data": {
      "text/plain": [
       "'\\nYes, higher rated restaurants (specifically 4 out of 5) receive more reviews.\\n'"
      ]
     },
     "execution_count": 93,
     "metadata": {},
     "output_type": "execute_result"
    }
   ],
   "source": [
    "# Replace None with appropriate text\n",
    "\"\"\"\n",
    "Yes, higher rated restaurants (specifically 4 out of 5) receive more reviews.\n",
    "\"\"\""
   ]
  },
  {
   "cell_type": "markdown",
   "metadata": {},
   "source": [
    "## Level Up: Create a Folium Map\n",
    "\n",
    "Make a map using Folium of the businesses you retrieved. Be sure to also add popups to the markers giving some basic information such as name, rating and price.\n",
    "\n",
    "You can center the map around the latitude and longitude of the first item in your dataset."
   ]
  },
  {
   "cell_type": "code",
   "execution_count": 106,
   "metadata": {},
   "outputs": [
    {
     "data": {
      "text/plain": [
       "'$'"
      ]
     },
     "execution_count": 106,
     "metadata": {},
     "output_type": "execute_result"
    }
   ],
   "source": [
    "full_dataset[0]['price']"
   ]
  },
  {
   "cell_type": "code",
   "execution_count": 110,
   "metadata": {},
   "outputs": [
    {
     "data": {
      "text/html": [
       "<div style=\"width:100%;\"><div style=\"position:relative;width:100%;height:0;padding-bottom:60%;\"><span style=\"color:#565656\">Make this Notebook Trusted to load map: File -> Trust Notebook</span><iframe src=\"about:blank\" style=\"position:absolute;width:100%;height:100%;left:0;top:0;border:none !important;\" data-html=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 onload=\"this.contentDocument.open();this.contentDocument.write(atob(this.getAttribute('data-html')));this.contentDocument.close();\" allowfullscreen webkitallowfullscreen mozallowfullscreen></iframe></div></div>"
      ],
      "text/plain": [
       "<folium.folium.Map at 0x1d943922c70>"
      ]
     },
     "execution_count": 110,
     "metadata": {},
     "output_type": "execute_result"
    }
   ],
   "source": [
    "# Replace None with appropriate code\n",
    "\n",
    "# Import the library\n",
    "import folium\n",
    "\n",
    "# Set up center latitude and longitude\n",
    "center_lat = business_df.iloc[0]['latitude']\n",
    "center_long = business_df.iloc[0]['longitude']\n",
    "\n",
    "# Initialize map with center lat and long\n",
    "yelp_map = folium.Map([center_lat, center_long], zoom_start=13, control_scale=True)\n",
    "\n",
    "# Adjust this limit to see more or fewer businesses\n",
    "limit=100\n",
    "\n",
    "for business in full_dataset[:limit]:\n",
    "    # Extract information about business\n",
    "    lat = business['coordinates']['latitude']\n",
    "    long = business['coordinates']['longitude']\n",
    "    name = business['name']\n",
    "    rating = business['rating']\n",
    "#     price = business['price']\n",
    "    details = \"{}\\nPrice: {} Rating:{}\".format(name,price,rating)\n",
    "    \n",
    "#   Create marker with relevant lat/long and popup\n",
    "    marker = folium.Marker(location=[lat, long])\n",
    "    marker.add_to(yelp_map)\n",
    "    \n",
    "#   Create popup with relevant details\n",
    "    popup_text = \"Name: {}, Rating: {}\".format(name,rating)\n",
    "    popup = folium.Popup(popup_text, parse_html=True)\n",
    "    marker = folium.Marker(location=[lat, long], popup=popup)\n",
    "    marker.add_to(yelp_map)\n",
    "    \n",
    "yelp_map"
   ]
  },
  {
   "cell_type": "markdown",
   "metadata": {},
   "source": [
    "# 5. Create Presentation Notebook\n",
    "\n",
    "Now that you've completed your project, let's put it into an easily presentable format so you can add it to your portfolio. To do this, we recommend completing the following steps outside of this notebook.\n",
    "\n",
    "1. Create a new GitHub repository for your project.\n",
    "2. Save a copy of this notebook into your local repository.\n",
    "3. Edit the text and images in the notebook to present your project and help someone else understand it.\n",
    "4. Run your notebook from start to finish, then **delete your API key** and save it.\n",
    "5. Create a README.md file in your repository with a brief summary of your project.\n",
    "6. Push your updated repository to GitHub to share with your instructor and employers!"
   ]
  },
  {
   "cell_type": "markdown",
   "metadata": {},
   "source": [
    "# Level Up: Project Enhancements\n",
    "\n",
    "After completing the project, you could consider the following enhancements if you have time:\n",
    "\n",
    "* Save a cleaned version of your dataset in your repository, then modify the notebook to load and use that dataset for the analysis. This will allow others to replicate your analysis and avoid running their own API queries.\n",
    "* Use `seaborn` to improve the styling of your visualizations\n",
    "* Explain the implications of your findings for business owners or internal Yelp staff\n",
    "* Repeat the project for another business category or location, and compare the results"
   ]
  },
  {
   "cell_type": "markdown",
   "metadata": {},
   "source": [
    "# Summary\n",
    "\n",
    "Nice work! In this lab, you've made multiple API calls to Yelp in order to paginate through a results set, prepared your data for analysis, and then conducted and visualized descriptive analyses. Well done!"
   ]
  }
 ],
 "metadata": {
  "kernelspec": {
   "display_name": "Python 3",
   "language": "python",
   "name": "python3"
  },
  "language_info": {
   "codemirror_mode": {
    "name": "ipython",
    "version": 3
   },
   "file_extension": ".py",
   "mimetype": "text/x-python",
   "name": "python",
   "nbconvert_exporter": "python",
   "pygments_lexer": "ipython3",
   "version": "3.8.5"
  },
  "toc": {
   "base_numbering": 1,
   "nav_menu": {},
   "number_sections": true,
   "sideBar": true,
   "skip_h1_title": false,
   "title_cell": "Table of Contents",
   "title_sidebar": "Contents",
   "toc_cell": false,
   "toc_position": {},
   "toc_section_display": true,
   "toc_window_display": false
  }
 },
 "nbformat": 4,
 "nbformat_minor": 2
}
