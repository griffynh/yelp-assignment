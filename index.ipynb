{
 "cells": [
  {
   "cell_type": "markdown",
   "metadata": {},
   "source": [
    "# Yelp API Project\n",
    "\n",
    "\n",
    "## Introduction \n",
    "\n",
    "We've learned how to query the Yelp API, analyze JSON data and create basic visualizations. It's time to put those skills to work in order to create a project of your own! Taking things a step further, you'll also independently explore how to perform pagination in order to retrieve a full results set from the Yelp API.\n",
    "\n",
    "## Objectives\n",
    "\n",
    "You will be able to: \n",
    "\n",
    "* Practice using functions to organize your code\n",
    "* Use pagination to retrieve all results from an API query\n",
    "* Practice parsing data returned from an API query\n",
    "* Practice interpreting visualizations of a dataset"
   ]
  },
  {
   "cell_type": "markdown",
   "metadata": {},
   "source": [
    "# Task: Query Yelp for All Businesses in a Category and Analyze the Results\n",
    "\n",
    "![restaurant counter with pizza](images/restaurant_counter.jpg)\n",
    "\n",
    "Photo by <a href=\"https://unsplash.com/@jordanmadrid?utm_source=unsplash&utm_medium=referral&utm_content=creditCopyText\">Jordan Madrid</a> on <a href=\"/s/photos/pizza-restaurant?utm_source=unsplash&utm_medium=referral&utm_content=creditCopyText\">Unsplash</a>"
   ]
  },
  {
   "cell_type": "markdown",
   "metadata": {},
   "source": [
    "## Overview\n",
    "\n",
    "You've now worked with some API calls, but we have yet to see how to retrieve a more complete dataset in a programmatic manner. In this lab, you will write a query of businesses on Yelp, then use *pagination* to retrieve all possible results for that query. Then you will pre-process and analyze your data, leading to a presentation of your findings.\n",
    "\n",
    "## Requirements\n",
    "\n",
    "### 1. Make the Initial Request\n",
    "\n",
    "Start by filling in your API key to make the initial request to the business search API. \n",
    "\n",
    "### 2. Add Pagination\n",
    "\n",
    "Using loops and functions, collect the maximum number of results for your query from the API.\n",
    "\n",
    "### 3. Prepare Data\n",
    "\n",
    "Investigate the structure of the response you get back and extract the relevant information.\n",
    "\n",
    "### 4. Perform Descriptive Analysis\n",
    "\n",
    "Interpret visualizations related to the price range, average rating, and number of reviews for all query results.\n",
    "\n",
    "### 5. Create Presentation Notebook\n",
    "\n",
    "Edit this notebook or create a new one to showcase your work."
   ]
  },
  {
   "cell_type": "markdown",
   "metadata": {},
   "source": [
    "# 1. Make the Initial Request\n",
    "\n",
    "## Querying\n",
    "\n",
    "Start by making an initial request to the Yelp API. Your search must include at least 2 parameters: **term** and **location**. For example, you might search for pizza restaurants in NYC. The term and location is up to you but make the request below.\n",
    "\n",
    "Use the `requests` library ([documentation here](https://requests.readthedocs.io/en/master/user/quickstart/#make-a-request)).\n",
    "\n",
    "You'll also need an API key from Yelp. If you haven't done this already, go to the Yelp [Manage App page](https://www.yelp.com/developers/v3/manage_app) and create a new app (after making an account if you haven't already)."
   ]
  },
  {
   "cell_type": "code",
   "execution_count": 1,
   "metadata": {},
   "outputs": [],
   "source": [
    "import json\n",
    "\n",
    "def get_keys(path):\n",
    "    with open(path) as f:\n",
    "        return json.load(f)"
   ]
  },
  {
   "cell_type": "code",
   "execution_count": 4,
   "metadata": {},
   "outputs": [
    {
     "name": "stdout",
     "output_type": "stream",
     "text": [
      "200\n",
      "True\n"
     ]
    }
   ],
   "source": [
    "# Replace None with appropriate code\n",
    "\n",
    "# Import the requests library\n",
    "import requests\n",
    "\n",
    "# Get this from the \"Manage App\" page. Make sure you set them\n",
    "# back to None before pushing this to GitHub, since otherwise\n",
    "# your credentials will be compromised\n",
    "\n",
    "keys = get_keys(\"yelp_api.json\")\n",
    "api_key = keys['api_key']\n",
    "\n",
    "# These can be whatever you want! But the solution uses \"pizza\"\n",
    "# and \"New York NY\" if you want to compare your work directly\n",
    "term = \"pizza\"\n",
    "location = \"New York NY\"\n",
    " \n",
    "# Set up params for request\n",
    "url = \"https://api.yelp.com/v3/businesses/search\"\n",
    "headers = {\n",
    "    \"Authorization\": \"Bearer {}\".format(api_key)\n",
    "}\n",
    "url_params = {\n",
    "    \"term\": term.replace(\" \", \"+\"),\n",
    "    \"location\": location.replace(\" \", \"+\")\n",
    "}\n",
    "\n",
    "# Make the request using requests.get, passing in\n",
    "# url, headers=headers, and params=url_params\n",
    "response = requests.get(url, headers=headers, params=url_params)\n",
    "# https://www.yelp.com/developers/documentation/v3/business_search\n",
    "\n",
    "# Confirm we got a 200 response\n",
    "\n",
    "print(requests.codes.ok)\n",
    "print(response.status_code == requests.codes.ok)\n",
    "\n",
    "# dict(response.headers)\n",
    "# print(response.url)\n",
    "# print(response.text)"
   ]
  },
  {
   "cell_type": "code",
   "execution_count": 5,
   "metadata": {},
   "outputs": [
    {
     "data": {
      "text/plain": [
       "dict_keys(['businesses', 'total', 'region'])"
      ]
     },
     "execution_count": 5,
     "metadata": {},
     "output_type": "execute_result"
    }
   ],
   "source": [
    "# Run this cell without changes\n",
    "\n",
    "# Get the response body in JSON format\n",
    "response_json = response.json()\n",
    "# View the keys\n",
    "response_json.keys()"
   ]
  },
  {
   "cell_type": "code",
   "execution_count": 6,
   "metadata": {},
   "outputs": [
    {
     "name": "stdout",
     "output_type": "stream",
     "text": [
      "Business\n",
      "<class 'list'>\n",
      "20\n",
      "\n",
      "Total\n",
      "<class 'int'>\n",
      "11800\n",
      "\n",
      "Region\n",
      "<class 'dict'>\n",
      "<class 'dict'>\n",
      "dict_keys(['longitude', 'latitude'])\n"
     ]
    }
   ],
   "source": [
    "print('Business')\n",
    "print(type(response_json['businesses']))\n",
    "print(len(response_json['businesses']))\n",
    "\n",
    "print('\\nTotal')\n",
    "print(type(response_json['total']))\n",
    "print(response_json['total'])\n",
    "\n",
    "print('\\nRegion')\n",
    "print(type(response_json['region'])) # Region key type = dict\n",
    "region = response_json['region'] # Set region variable\n",
    "print(type(region['center'])) # Center key type = dict\n",
    "center = region['center'] # Set center variable\n",
    "print(center.keys()) # Long / Lat"
   ]
  },
  {
   "cell_type": "markdown",
   "metadata": {},
   "source": [
    "## Extracting Data\n",
    "\n",
    "Now, retrieve the value associated with the `'businesses'` key, and inspect its contents."
   ]
  },
  {
   "cell_type": "code",
   "execution_count": 7,
   "metadata": {},
   "outputs": [
    {
     "name": "stdout",
     "output_type": "stream",
     "text": [
      "\n",
      "There are 20 businesses in this response\n"
     ]
    },
    {
     "data": {
      "text/plain": [
       "[{'id': 'zj8Lq1T8KIC5zwFief15jg',\n",
       "  'alias': 'prince-street-pizza-new-york-2',\n",
       "  'name': 'Prince Street Pizza',\n",
       "  'image_url': 'https://s3-media3.fl.yelpcdn.com/bphoto/ZAukOyv530w4KjOHC5YY1w/o.jpg',\n",
       "  'is_closed': False,\n",
       "  'url': 'https://www.yelp.com/biz/prince-street-pizza-new-york-2?adjust_creative=Autr_aWUiis-5UD_Bri39g&utm_campaign=yelp_api_v3&utm_medium=api_v3_business_search&utm_source=Autr_aWUiis-5UD_Bri39g',\n",
       "  'review_count': 3934,\n",
       "  'categories': [{'alias': 'pizza', 'title': 'Pizza'},\n",
       "   {'alias': 'italian', 'title': 'Italian'}],\n",
       "  'rating': 4.5,\n",
       "  'coordinates': {'latitude': 40.72308755605564,\n",
       "   'longitude': -73.99453001177575},\n",
       "  'transactions': ['pickup', 'delivery'],\n",
       "  'price': '$',\n",
       "  'location': {'address1': '27 Prince St',\n",
       "   'address2': None,\n",
       "   'address3': '',\n",
       "   'city': 'New York',\n",
       "   'zip_code': '10012',\n",
       "   'country': 'US',\n",
       "   'state': 'NY',\n",
       "   'display_address': ['27 Prince St', 'New York, NY 10012']},\n",
       "  'phone': '+12129664100',\n",
       "  'display_phone': '(212) 966-4100',\n",
       "  'distance': 1961.8771417367063},\n",
       " {'id': 'ysqgdbSrezXgVwER2kQWKA',\n",
       "  'alias': 'julianas-brooklyn-3',\n",
       "  'name': \"Juliana's\",\n",
       "  'image_url': 'https://s3-media2.fl.yelpcdn.com/bphoto/clscwgOF9_Ecq-Rwsq7jyQ/o.jpg',\n",
       "  'is_closed': False,\n",
       "  'url': 'https://www.yelp.com/biz/julianas-brooklyn-3?adjust_creative=Autr_aWUiis-5UD_Bri39g&utm_campaign=yelp_api_v3&utm_medium=api_v3_business_search&utm_source=Autr_aWUiis-5UD_Bri39g',\n",
       "  'review_count': 2338,\n",
       "  'categories': [{'alias': 'pizza', 'title': 'Pizza'}],\n",
       "  'rating': 4.5,\n",
       "  'coordinates': {'latitude': 40.70274718768062,\n",
       "   'longitude': -73.99343490196397},\n",
       "  'transactions': ['delivery'],\n",
       "  'price': '$$',\n",
       "  'location': {'address1': '19 Old Fulton St',\n",
       "   'address2': '',\n",
       "   'address3': '',\n",
       "   'city': 'Brooklyn',\n",
       "   'zip_code': '11201',\n",
       "   'country': 'US',\n",
       "   'state': 'NY',\n",
       "   'display_address': ['19 Old Fulton St', 'Brooklyn, NY 11201']},\n",
       "  'phone': '+17185966700',\n",
       "  'display_phone': '(718) 596-6700',\n",
       "  'distance': 308.56984360837544}]"
      ]
     },
     "execution_count": 7,
     "metadata": {},
     "output_type": "execute_result"
    }
   ],
   "source": [
    "# Replace None with appropriate code\n",
    "\n",
    "# Retrieve the value from response_json\n",
    "businesses = response_json['businesses']\n",
    "\n",
    "# View number of records\n",
    "print(f\"\\nThere are {len(businesses)} businesses in this response\")\n",
    "\n",
    "# View the first 2 records\n",
    "businesses[:2]"
   ]
  },
  {
   "cell_type": "markdown",
   "metadata": {},
   "source": [
    "# 2. Add Pagination\n",
    "\n",
    "Now that you are able to get one set of responses, known as a **page**, let's figure out how to request as many pages as possible.\n",
    "\n",
    "## Technical Details\n",
    "\n",
    "Returning to the Yelp API, the [documentation](https://www.yelp.com/developers/documentation/v3/business_search) also provides us details regarding the **API limits**. These often include details about the number of requests a user is allowed to make within a specified time limit and the maximum number of results to be returned. In this case, we are told that any request has a **maximum of 50 results per request** and defaults to 20. Furthermore, any search will be limited to a **total of 1000 results**. To retrieve all 1000 of these results, we would have to page through the results piece by piece, retrieving 50 at a time. Processes such as these are often referred to as pagination.\n",
    "\n",
    "Also, be mindful of the **API** ***rate*** **limits**. You can only make **5000 requests per day** and are also can make requests too fast. Start prototyping small before running a loop that could be faulty. You can also use `time.sleep(n)` to add delays. For more details see https://www.yelp.com/developers/documentation/v3/rate_limiting.\n",
    "\n",
    "In this lab, you will define a search and then paginate over the results to retrieve all of the results. You'll then parse these responses as a list of dictionaries (for further exploration) and create a map using Folium to visualize the results geographically.\n",
    "\n",
    "## Determining the Total\n",
    "\n",
    "Depending on the number of total results for your query, you will either retrieve all of the results, or just the first 1000 (if there are more than 1000 total).\n",
    "\n",
    "We can find the total number of results using the `\"total\"` key:"
   ]
  },
  {
   "cell_type": "code",
   "execution_count": 8,
   "metadata": {},
   "outputs": [
    {
     "data": {
      "text/plain": [
       "11800"
      ]
     },
     "execution_count": 8,
     "metadata": {},
     "output_type": "execute_result"
    }
   ],
   "source": [
    "# Run this cell without changes\n",
    "response_json[\"total\"]"
   ]
  },
  {
   "cell_type": "markdown",
   "metadata": {},
   "source": [
    "(This is specific to the implementation of the Yelp API. Some APIs will just tell you that there are more pages, or will tell you the number of pages total, rather than the total number of results. If you're not sure, always check the documentation.)\n",
    "\n",
    "In the cell below, assign the variable `total` to either the value shown above (if it is less than 1000), or 1000."
   ]
  },
  {
   "cell_type": "code",
   "execution_count": 9,
   "metadata": {},
   "outputs": [
    {
     "data": {
      "text/plain": [
       "1000"
      ]
     },
     "execution_count": 9,
     "metadata": {},
     "output_type": "execute_result"
    }
   ],
   "source": [
    "# Replace None with appropriate code\n",
    "\n",
    "if response_json[\"total\"] < 1000:\n",
    "    total = response_json[\"total\"]\n",
    "else:\n",
    "    total = 1000\n",
    "    \n",
    "total"
   ]
  },
  {
   "cell_type": "markdown",
   "metadata": {},
   "source": [
    "### Calculating the Offsets\n",
    "\n",
    "The documentation states in the parameters section:\n",
    "\n",
    "> **Name**: `limit`, **Type:** int, **Description:** Optional. Number of business results to return. By default, it will return 20. Maximum is 50.\n",
    "\n",
    "> **Name**: `offset`, **Type:** int, **Description:** Optional. Offset the list of returned business results by this amount.\n",
    "\n",
    "So, to get the most results with the fewest API calls we want to set a limit of 50 every time. If, say, we wanted to get 210 total results, that would mean:\n",
    "\n",
    "1. Offset of `0` (first 50 records)\n",
    "2. Offset of `50` (second 50 records)\n",
    "3. Offset of `100` (third 50 records)\n",
    "4. Offset of `150` (fourth 50 records)\n",
    "5. Offset of `200` (final 10 records)\n",
    "\n",
    "In the cell below, create a function `get_offsets` that takes in a total and returns a list of offsets for that total. You can assume that there is a limit of 50 every time.\n",
    "\n",
    "*Hint: you can use `range` ([documentation here](https://docs.python.org/3.3/library/stdtypes.html?highlight=range#range)) to do this in one line of code. Just make the returned result is a list.*"
   ]
  },
  {
   "cell_type": "code",
   "execution_count": 10,
   "metadata": {},
   "outputs": [],
   "source": [
    "# Replace None with appropriate code\n",
    "def get_offsets(total):\n",
    "    \"\"\"\n",
    "    Get a list of offsets needed to get all pages\n",
    "    of data up until the total\n",
    "    \"\"\"\n",
    "    \n",
    "    start = 0\n",
    "    stop = total\n",
    "    step = 50\n",
    "\n",
    "    return list(range(start, stop, step))\n",
    "\n",
    "    # https://www.programiz.com/python-programming/methods/built-in/range"
   ]
  },
  {
   "cell_type": "markdown",
   "metadata": {},
   "source": [
    "Check that your function works below:"
   ]
  },
  {
   "cell_type": "code",
   "execution_count": 11,
   "metadata": {},
   "outputs": [],
   "source": [
    "# Run this cell without changes\n",
    "\n",
    "assert get_offsets(200) == [0, 50, 100, 150]\n",
    "assert get_offsets(210) == [0, 50, 100, 150, 200]\n",
    "\n",
    "# print(get_offsets(200))\n",
    "# print(get_offsets(210))"
   ]
  },
  {
   "cell_type": "markdown",
   "metadata": {},
   "source": [
    "### Putting It All Together\n",
    "\n",
    "Recall that the following variable has already been declared for you:"
   ]
  },
  {
   "cell_type": "code",
   "execution_count": 12,
   "metadata": {},
   "outputs": [
    {
     "data": {
      "text/plain": [
       "{'term': 'pizza', 'location': 'New+York+NY'}"
      ]
     },
     "execution_count": 12,
     "metadata": {},
     "output_type": "execute_result"
    }
   ],
   "source": [
    "# Run this cell without changes\n",
    "url_params"
   ]
  },
  {
   "cell_type": "markdown",
   "metadata": {},
   "source": [
    "We'll go ahead and also specify that the limit should be 50 every time:"
   ]
  },
  {
   "cell_type": "code",
   "execution_count": 13,
   "metadata": {},
   "outputs": [],
   "source": [
    "# Run this cell without changes\n",
    "url_params[\"limit\"] = 50"
   ]
  },
  {
   "cell_type": "markdown",
   "metadata": {},
   "source": [
    "In order to modify the offset, you'll need to add it to `url_params` with the key `\"offset\"` and whatever value is needed.\n",
    "\n",
    "In the cell below, write code that:\n",
    "\n",
    "* Creates an empty list for the full prepared dataset\n",
    "* Loops over all of the offsets from `get_offsets` and makes an API call each time with the specified offset\n",
    "* Extends the full dataset list with each query's dataset"
   ]
  },
  {
   "cell_type": "code",
   "execution_count": 14,
   "metadata": {},
   "outputs": [
    {
     "data": {
      "text/plain": [
       "1000"
      ]
     },
     "execution_count": 14,
     "metadata": {},
     "output_type": "execute_result"
    }
   ],
   "source": [
    "# Replace None with appropriate code\n",
    "\n",
    "# Create an empty list for the full prepared dataset\n",
    "full_dataset = []\n",
    "\n",
    "for offset in get_offsets(total):\n",
    "    # Add or update the \"offset\" key-value pair in url_params\n",
    "    url_params[\"offset\"] = offset\n",
    "    \n",
    "    # Make the query and get the response\n",
    "    response = requests.get(url, headers=headers, params=url_params)\n",
    "    \n",
    "    # Get the response body in JSON format\n",
    "    response_json = response.json()\n",
    "    \n",
    "    # Get the list of businesses from the response_json\n",
    "    businesses = response_json['businesses']\n",
    "    \n",
    "    # Extend full_dataset with this list (don't append, or you'll get\n",
    "    # a list of lists instead of a flat list)\n",
    "    for business in businesses:\n",
    "        full_dataset.append(business)\n",
    "\n",
    "# Check the length of the full dataset. It will be up to `total`,\n",
    "# potentially less if there were missing values\n",
    "len(full_dataset)"
   ]
  },
  {
   "cell_type": "markdown",
   "metadata": {},
   "source": [
    "This code may take up to a few minutes to run.\n",
    "\n",
    "If you get an error trying to get the response body in JSON format, try adding `time.sleep(1)` right after the `requests.get` line, so your code will sleep for 1 second between each API call."
   ]
  },
  {
   "cell_type": "markdown",
   "metadata": {},
   "source": [
    "# 3. Prepare Data\n",
    "\n",
    "Now that we have all of our data, let's prepare it for analysis. It can be helpful to start this process by inspecting the raw data."
   ]
  },
  {
   "cell_type": "code",
   "execution_count": 15,
   "metadata": {
    "scrolled": false
   },
   "outputs": [],
   "source": [
    "# Run this cell without changes\n",
    "\n",
    "# View the first 2 records\n",
    "# full_dataset[:2]\n",
    "first_record = full_dataset[0]"
   ]
  },
  {
   "cell_type": "code",
   "execution_count": 17,
   "metadata": {},
   "outputs": [
    {
     "data": {
      "text/plain": [
       "dict_keys(['id', 'alias', 'name', 'image_url', 'is_closed', 'url', 'review_count', 'categories', 'rating', 'coordinates', 'transactions', 'price', 'location', 'phone', 'display_phone', 'distance'])"
      ]
     },
     "execution_count": 17,
     "metadata": {},
     "output_type": "execute_result"
    }
   ],
   "source": [
    "first_record.keys()"
   ]
  },
  {
   "cell_type": "code",
   "execution_count": 19,
   "metadata": {
    "scrolled": true
   },
   "outputs": [
    {
     "name": "stdout",
     "output_type": "stream",
     "text": [
      "Prince Street Pizza\n",
      "3934\n",
      "4.5\n",
      "$\n",
      "{'latitude': 40.72308755605564, 'longitude': -73.99453001177575}\n",
      "40.72308755605564\n",
      "-73.99453001177575\n"
     ]
    }
   ],
   "source": [
    "print(first_record['name'])\n",
    "print(first_record['review_count'])\n",
    "print(first_record['rating'])\n",
    "print(first_record['price'])\n",
    "print(first_record['coordinates'])\n",
    "print(first_record['coordinates']['latitude'])\n",
    "print(first_record['coordinates']['longitude'])"
   ]
  },
  {
   "cell_type": "markdown",
   "metadata": {},
   "source": [
    "Write a function `prepare_data` that takes in a list of dictionaries like `businesses` and returns a copy that has been prepared for analysis:\n",
    "\n",
    "1. The `coordinates` key-value pair has been converted into two separate key-value pairs, `latitude` and `longitude`\n",
    "2. All other key-value pairs except for `name`, `review_count`, `rating`, and `price` have been dropped\n",
    "3. All dictionaries missing one of the relevant keys or containing null values have been dropped\n",
    "\n",
    "In other words, the final keys for each dictionary should be `name`, `review_count`, `rating`, `price`, `latitude`, and `longitude`.\n",
    "\n",
    "Complete the function in the cell below:"
   ]
  },
  {
   "cell_type": "code",
   "execution_count": 20,
   "metadata": {
    "scrolled": true
   },
   "outputs": [
    {
     "data": {
      "text/plain": [
       "[{'name': 'Prince Street Pizza',\n",
       "  'review_count': 3934,\n",
       "  'rating': 4.5,\n",
       "  'price': '$',\n",
       "  'latitude': 40.72308755605564,\n",
       "  'longitude': -73.99453001177575},\n",
       " {'name': \"Juliana's\",\n",
       "  'review_count': 2338,\n",
       "  'rating': 4.5,\n",
       "  'price': '$$',\n",
       "  'latitude': 40.70274718768062,\n",
       "  'longitude': -73.99343490196397},\n",
       " {'name': \"Lombardi's Pizza\",\n",
       "  'review_count': 6179,\n",
       "  'rating': 4.0,\n",
       "  'price': '$$',\n",
       "  'latitude': 40.7215934960083,\n",
       "  'longitude': -73.9955956044561},\n",
       " {'name': 'Lucali',\n",
       "  'review_count': 1697,\n",
       "  'rating': 4.0,\n",
       "  'price': '$$',\n",
       "  'latitude': 40.6818,\n",
       "  'longitude': -74.00024},\n",
       " {'name': 'Rubirosa',\n",
       "  'review_count': 2420,\n",
       "  'rating': 4.5,\n",
       "  'price': '$$',\n",
       "  'latitude': 40.722766,\n",
       "  'longitude': -73.996233}]"
      ]
     },
     "execution_count": 20,
     "metadata": {},
     "output_type": "execute_result"
    }
   ],
   "source": [
    "# Replace None with appropriate code\n",
    "\n",
    "def prepare_data(data_list):\n",
    "    \"\"\"\n",
    "    This function takes in a list of dictionaries and prepares it\n",
    "    for analysis\n",
    "    \"\"\"\n",
    "    \n",
    "    # Make a new list to hold results\n",
    "    results = []\n",
    "    keys = ['name', 'review_count', 'rating', 'price']\n",
    "    \n",
    "    for business_data in data_list:\n",
    "    \n",
    "        # Make a new dictionary to hold prepared data for this business\n",
    "        prepared_data = {}\n",
    "        \n",
    "        # Extract name, review_count, rating, and price key-value pairs\n",
    "        # from business_data and add to prepared_data\n",
    "        \n",
    "        business_keys = business_data.keys()\n",
    "        \n",
    "        # If a key is not present in business_data, add it to prepared_data\n",
    "        # with an associated value of None\n",
    "        \n",
    "        for key in keys:\n",
    "            if key in business_keys:\n",
    "                prepared_data[key] = business_data[key]\n",
    "            else:\n",
    "                prepared_data[key] = 'None'    \n",
    "                \n",
    "#         prepared_data['name'] = business_data['name']\n",
    "#         prepared_data['review_count'] = business_data['review_count']\n",
    "#         prepared_data['rating'] = business_data['rating']\n",
    "#         prepared_data['price'] = business_data['price']\n",
    "                \n",
    "        # Parse and add latitude and longitude columns\n",
    "        \n",
    "        prepared_data['latitude'] = business_data['coordinates']['latitude']\n",
    "        prepared_data['longitude'] = business_data['coordinates']['longitude']\n",
    "        \n",
    "#         # Add to list if all values are present\n",
    "#         if all(prepared_data.values()):\n",
    "#             results.append(prepared_data)\n",
    "\n",
    "        results.append(prepared_data)\n",
    "    \n",
    "    return results\n",
    "    \n",
    "# Test out function\n",
    "prepared_businesses = prepare_data(full_dataset)\n",
    "prepared_businesses[:5]"
   ]
  },
  {
   "cell_type": "markdown",
   "metadata": {},
   "source": [
    "Check that your function created the correct keys:"
   ]
  },
  {
   "cell_type": "code",
   "execution_count": 21,
   "metadata": {},
   "outputs": [],
   "source": [
    "# Run this cell without changes\n",
    "\n",
    "assert sorted(list(prepared_businesses[0].keys())) == ['latitude', 'longitude', 'name', 'price', 'rating', 'review_count']"
   ]
  },
  {
   "cell_type": "markdown",
   "metadata": {},
   "source": [
    "The following code will differ depending on your query, but there may be fewer results in the prepared list than in the full dataset (if any of them were missing data):"
   ]
  },
  {
   "cell_type": "code",
   "execution_count": 22,
   "metadata": {},
   "outputs": [
    {
     "name": "stdout",
     "output_type": "stream",
     "text": [
      "Original: 1000\n",
      "Prepared: 1000\n"
     ]
    }
   ],
   "source": [
    "# Run this cell without changes\n",
    "print(\"Original:\", len(full_dataset))\n",
    "print(\"Prepared:\", len(prepared_businesses))"
   ]
  },
  {
   "cell_type": "markdown",
   "metadata": {},
   "source": [
    "Great! Now let's create a DataFrame to hold our data - this will make our cleaning and analysis easier."
   ]
  },
  {
   "cell_type": "code",
   "execution_count": 23,
   "metadata": {
    "scrolled": true
   },
   "outputs": [
    {
     "data": {
      "text/html": [
       "<div>\n",
       "<style scoped>\n",
       "    .dataframe tbody tr th:only-of-type {\n",
       "        vertical-align: middle;\n",
       "    }\n",
       "\n",
       "    .dataframe tbody tr th {\n",
       "        vertical-align: top;\n",
       "    }\n",
       "\n",
       "    .dataframe thead th {\n",
       "        text-align: right;\n",
       "    }\n",
       "</style>\n",
       "<table border=\"1\" class=\"dataframe\">\n",
       "  <thead>\n",
       "    <tr style=\"text-align: right;\">\n",
       "      <th></th>\n",
       "      <th>name</th>\n",
       "      <th>review_count</th>\n",
       "      <th>rating</th>\n",
       "      <th>price</th>\n",
       "      <th>latitude</th>\n",
       "      <th>longitude</th>\n",
       "    </tr>\n",
       "  </thead>\n",
       "  <tbody>\n",
       "    <tr>\n",
       "      <th>0</th>\n",
       "      <td>Prince Street Pizza</td>\n",
       "      <td>3934</td>\n",
       "      <td>4.5</td>\n",
       "      <td>$</td>\n",
       "      <td>40.723088</td>\n",
       "      <td>-73.994530</td>\n",
       "    </tr>\n",
       "    <tr>\n",
       "      <th>1</th>\n",
       "      <td>Juliana's</td>\n",
       "      <td>2338</td>\n",
       "      <td>4.5</td>\n",
       "      <td>$$</td>\n",
       "      <td>40.702747</td>\n",
       "      <td>-73.993435</td>\n",
       "    </tr>\n",
       "    <tr>\n",
       "      <th>2</th>\n",
       "      <td>Lombardi's Pizza</td>\n",
       "      <td>6179</td>\n",
       "      <td>4.0</td>\n",
       "      <td>$$</td>\n",
       "      <td>40.721593</td>\n",
       "      <td>-73.995596</td>\n",
       "    </tr>\n",
       "    <tr>\n",
       "      <th>3</th>\n",
       "      <td>Lucali</td>\n",
       "      <td>1697</td>\n",
       "      <td>4.0</td>\n",
       "      <td>$$</td>\n",
       "      <td>40.681800</td>\n",
       "      <td>-74.000240</td>\n",
       "    </tr>\n",
       "    <tr>\n",
       "      <th>4</th>\n",
       "      <td>Rubirosa</td>\n",
       "      <td>2420</td>\n",
       "      <td>4.5</td>\n",
       "      <td>$$</td>\n",
       "      <td>40.722766</td>\n",
       "      <td>-73.996233</td>\n",
       "    </tr>\n",
       "  </tbody>\n",
       "</table>\n",
       "</div>"
      ],
      "text/plain": [
       "                  name  review_count  rating price   latitude  longitude\n",
       "0  Prince Street Pizza          3934     4.5     $  40.723088 -73.994530\n",
       "1            Juliana's          2338     4.5    $$  40.702747 -73.993435\n",
       "2     Lombardi's Pizza          6179     4.0    $$  40.721593 -73.995596\n",
       "3               Lucali          1697     4.0    $$  40.681800 -74.000240\n",
       "4             Rubirosa          2420     4.5    $$  40.722766 -73.996233"
      ]
     },
     "execution_count": 23,
     "metadata": {},
     "output_type": "execute_result"
    }
   ],
   "source": [
    "# Replace None with appropriate code\n",
    "\n",
    "# Import pandas\n",
    "import pandas as pd\n",
    "\n",
    "# Create DataFrame from prepared business data\n",
    "business_df = pd.DataFrame(prepared_businesses)\n",
    "\n",
    "# Inspect the DataFrame\n",
    "business_df.head()"
   ]
  },
  {
   "cell_type": "code",
   "execution_count": 26,
   "metadata": {},
   "outputs": [
    {
     "name": "stdout",
     "output_type": "stream",
     "text": [
      "Dataframe info\n",
      "(1000, 6)\n",
      "RangeIndex(start=0, stop=1000, step=1)\n",
      "Index(['name', 'review_count', 'rating', 'price', 'latitude', 'longitude'], dtype='object')\n",
      "name             object\n",
      "review_count      int64\n",
      "rating          float64\n",
      "price            object\n",
      "latitude        float64\n",
      "longitude       float64\n",
      "dtype: object\n"
     ]
    }
   ],
   "source": [
    "print('Dataframe info')\n",
    "# https://www.datacamp.com/community/blog/python-pandas-cheat-sheet\n",
    "\n",
    "print(business_df.shape)\n",
    "print(business_df.index)\n",
    "print(business_df.columns)\n",
    "# print(business_df.count)\n",
    "print(business_df.dtypes)\n",
    "# print(business_df.info)\n",
    "# print(business_df.describe)"
   ]
  },
  {
   "cell_type": "markdown",
   "metadata": {},
   "source": [
    "To make analysis of prices easier, let's convert `price` to a numeric value indicating the number of dollar signs."
   ]
  },
  {
   "cell_type": "code",
   "execution_count": 27,
   "metadata": {
    "scrolled": false
   },
   "outputs": [
    {
     "data": {
      "text/html": [
       "<div>\n",
       "<style scoped>\n",
       "    .dataframe tbody tr th:only-of-type {\n",
       "        vertical-align: middle;\n",
       "    }\n",
       "\n",
       "    .dataframe tbody tr th {\n",
       "        vertical-align: top;\n",
       "    }\n",
       "\n",
       "    .dataframe thead th {\n",
       "        text-align: right;\n",
       "    }\n",
       "</style>\n",
       "<table border=\"1\" class=\"dataframe\">\n",
       "  <thead>\n",
       "    <tr style=\"text-align: right;\">\n",
       "      <th></th>\n",
       "      <th>name</th>\n",
       "      <th>review_count</th>\n",
       "      <th>rating</th>\n",
       "      <th>price</th>\n",
       "      <th>latitude</th>\n",
       "      <th>longitude</th>\n",
       "    </tr>\n",
       "  </thead>\n",
       "  <tbody>\n",
       "    <tr>\n",
       "      <th>0</th>\n",
       "      <td>Prince Street Pizza</td>\n",
       "      <td>3934</td>\n",
       "      <td>4.5</td>\n",
       "      <td>1</td>\n",
       "      <td>40.723088</td>\n",
       "      <td>-73.994530</td>\n",
       "    </tr>\n",
       "    <tr>\n",
       "      <th>1</th>\n",
       "      <td>Juliana's</td>\n",
       "      <td>2338</td>\n",
       "      <td>4.5</td>\n",
       "      <td>2</td>\n",
       "      <td>40.702747</td>\n",
       "      <td>-73.993435</td>\n",
       "    </tr>\n",
       "    <tr>\n",
       "      <th>2</th>\n",
       "      <td>Lombardi's Pizza</td>\n",
       "      <td>6179</td>\n",
       "      <td>4.0</td>\n",
       "      <td>2</td>\n",
       "      <td>40.721593</td>\n",
       "      <td>-73.995596</td>\n",
       "    </tr>\n",
       "    <tr>\n",
       "      <th>3</th>\n",
       "      <td>Lucali</td>\n",
       "      <td>1697</td>\n",
       "      <td>4.0</td>\n",
       "      <td>2</td>\n",
       "      <td>40.681800</td>\n",
       "      <td>-74.000240</td>\n",
       "    </tr>\n",
       "    <tr>\n",
       "      <th>4</th>\n",
       "      <td>Rubirosa</td>\n",
       "      <td>2420</td>\n",
       "      <td>4.5</td>\n",
       "      <td>2</td>\n",
       "      <td>40.722766</td>\n",
       "      <td>-73.996233</td>\n",
       "    </tr>\n",
       "  </tbody>\n",
       "</table>\n",
       "</div>"
      ],
      "text/plain": [
       "                  name  review_count  rating  price   latitude  longitude\n",
       "0  Prince Street Pizza          3934     4.5      1  40.723088 -73.994530\n",
       "1            Juliana's          2338     4.5      2  40.702747 -73.993435\n",
       "2     Lombardi's Pizza          6179     4.0      2  40.721593 -73.995596\n",
       "3               Lucali          1697     4.0      2  40.681800 -74.000240\n",
       "4             Rubirosa          2420     4.5      2  40.722766 -73.996233"
      ]
     },
     "execution_count": 27,
     "metadata": {},
     "output_type": "execute_result"
    }
   ],
   "source": [
    "# Replace None with appropriate code\n",
    "\n",
    "business_df['price'] = (business_df['price']).str.len()\n",
    "\n",
    "# business_df['price'] = business_df['price'].replace('$', \"1\")\n",
    "# business_df['price'] = business_df['price'].replace('$$', \"2\")\n",
    "# business_df['price'] = business_df['price'].replace('$$$', \"3\")\n",
    "# business_df['price'] = business_df['price'].replace('$$$$', \"4\")\n",
    "# https://www.geeksforgeeks.org/python-pandas-series-str-replace-to-replace-text-in-a-series/\n",
    "\n",
    "# business_df['price'] = business_df['price'].apply(pd.to_numeric)\n",
    "# https://intellipaat.com/community/2601/change-data-type-of-columns-in-pandas\n",
    "\n",
    "# business_df.loc[business_df['price'] == '$', 'price'] = 1\n",
    "# business_df.loc[business_df['price'] == '$$', 'price'] = 2\n",
    "# business_df.loc[business_df['price'] == '$$$', 'price'] = 3\n",
    "# business_df.loc[business_df['price'] == '$$$$', 'price'] = 4\n",
    "\n",
    "# business_df['price'] =  business_df['price'].astype(int)\n",
    "\n",
    "business_df.head()"
   ]
  },
  {
   "cell_type": "markdown",
   "metadata": {},
   "source": [
    "# 4. Perform Descriptive Analysis\n",
    "\n",
    "## Descriptive Statistics\n",
    "\n",
    "Take the businesses from the previous question and do an initial descriptive analysis. Calculate summary statistics for the review counts, average rating, and price."
   ]
  },
  {
   "cell_type": "code",
   "execution_count": 28,
   "metadata": {},
   "outputs": [
    {
     "data": {
      "text/html": [
       "<div>\n",
       "<style scoped>\n",
       "    .dataframe tbody tr th:only-of-type {\n",
       "        vertical-align: middle;\n",
       "    }\n",
       "\n",
       "    .dataframe tbody tr th {\n",
       "        vertical-align: top;\n",
       "    }\n",
       "\n",
       "    .dataframe thead th {\n",
       "        text-align: right;\n",
       "    }\n",
       "</style>\n",
       "<table border=\"1\" class=\"dataframe\">\n",
       "  <thead>\n",
       "    <tr style=\"text-align: right;\">\n",
       "      <th></th>\n",
       "      <th>price</th>\n",
       "      <th>rating</th>\n",
       "      <th>review_count</th>\n",
       "    </tr>\n",
       "  </thead>\n",
       "  <tbody>\n",
       "    <tr>\n",
       "      <th>count</th>\n",
       "      <td>1000.00</td>\n",
       "      <td>1000.00</td>\n",
       "      <td>1000.00</td>\n",
       "    </tr>\n",
       "    <tr>\n",
       "      <th>mean</th>\n",
       "      <td>2.14</td>\n",
       "      <td>3.99</td>\n",
       "      <td>346.68</td>\n",
       "    </tr>\n",
       "    <tr>\n",
       "      <th>std</th>\n",
       "      <td>1.11</td>\n",
       "      <td>0.52</td>\n",
       "      <td>608.11</td>\n",
       "    </tr>\n",
       "    <tr>\n",
       "      <th>min</th>\n",
       "      <td>1.00</td>\n",
       "      <td>1.00</td>\n",
       "      <td>1.00</td>\n",
       "    </tr>\n",
       "    <tr>\n",
       "      <th>25%</th>\n",
       "      <td>1.00</td>\n",
       "      <td>3.50</td>\n",
       "      <td>49.75</td>\n",
       "    </tr>\n",
       "    <tr>\n",
       "      <th>50%</th>\n",
       "      <td>2.00</td>\n",
       "      <td>4.00</td>\n",
       "      <td>160.00</td>\n",
       "    </tr>\n",
       "    <tr>\n",
       "      <th>75%</th>\n",
       "      <td>3.00</td>\n",
       "      <td>4.50</td>\n",
       "      <td>383.25</td>\n",
       "    </tr>\n",
       "    <tr>\n",
       "      <th>max</th>\n",
       "      <td>4.00</td>\n",
       "      <td>5.00</td>\n",
       "      <td>6385.00</td>\n",
       "    </tr>\n",
       "  </tbody>\n",
       "</table>\n",
       "</div>"
      ],
      "text/plain": [
       "         price   rating  review_count\n",
       "count  1000.00  1000.00       1000.00\n",
       "mean      2.14     3.99        346.68\n",
       "std       1.11     0.52        608.11\n",
       "min       1.00     1.00          1.00\n",
       "25%       1.00     3.50         49.75\n",
       "50%       2.00     4.00        160.00\n",
       "75%       3.00     4.50        383.25\n",
       "max       4.00     5.00       6385.00"
      ]
     },
     "execution_count": 28,
     "metadata": {},
     "output_type": "execute_result"
    }
   ],
   "source": [
    "# Replace None with appropriate code\n",
    "\n",
    "# Calculate summary statistics for the review counts, average rating, and price\n",
    "# print('Mean')\n",
    "# print('Review count: ', business_df['review_count'].mean())\n",
    "# print('Rating: ', business_df['rating'].mean().round(2))\n",
    "# print('Price: ', business_df['price'].mean().round(2))\n",
    "\n",
    "# print('\\nMedian')\n",
    "# print('Review count: ', business_df['review_count'].median())\n",
    "# print('Rating: ', business_df['rating'].median())\n",
    "# print('Price: ', business_df['price'].median())\n",
    "\n",
    "# # print('\\nRatings')\n",
    "# # business_df.groupby('rating').sum()\n",
    "\n",
    "# print('\\nStandard deviation')\n",
    "# print('Review count: ', business_df['review_count'].std().round(2))\n",
    "# print('Rating: ', business_df['rating'].std().round(2))\n",
    "# print('Price: ', business_df['price'].std().round(2))\n",
    "\n",
    "business_df[['price', 'rating', 'review_count']].describe().round(2)"
   ]
  },
  {
   "cell_type": "markdown",
   "metadata": {},
   "source": [
    "Describe the results displayed above and interpret them in the context of your query. (Your answer may differ from the solution branch depending on your query.)"
   ]
  },
  {
   "cell_type": "code",
   "execution_count": 48,
   "metadata": {},
   "outputs": [
    {
     "data": {
      "text/plain": [
       "\"\\nUsing a selection of 1000 Yelp restaurant review of New York 'pizza' restaurants, we can see that:\\n- Each restaurant has on average 350 reviews (Source: Mean)\\n- The average rating is 4 out of 5 (Source: Mean & Median)\\n\""
      ]
     },
     "execution_count": 48,
     "metadata": {},
     "output_type": "execute_result"
    }
   ],
   "source": [
    "# Replace None with appropriate text\n",
    "\"\"\"\n",
    "Using a selection of 1000 Yelp restaurant reviews of New York 'pizza' restaurants, we can see that:\n",
    "- Each restaurant has on average 350 reviews (Source: Mean)\n",
    "- The average rating is 4 out of 5 (Source: Mean & Median)\n",
    "- Do something about the max (review_count)\n",
    "\"\"\""
   ]
  },
  {
   "cell_type": "markdown",
   "metadata": {},
   "source": [
    "## Histograms\n",
    "\n",
    "Create histograms for the review counts, average rating, and price."
   ]
  },
  {
   "cell_type": "code",
   "execution_count": 29,
   "metadata": {
    "scrolled": false
   },
   "outputs": [
    {
     "data": {
      "image/png": "[encoded data removed]",
      "text/plain": [
       "<Figure size 1152x360 with 3 Axes>"
      ]
     },
     "metadata": {
      "needs_background": "light"
     },
     "output_type": "display_data"
    }
   ],
   "source": [
    "# Replace None with your code\n",
    "import matplotlib.pyplot as plt\n",
    "%matplotlib inline\n",
    "\n",
    "fig, (ax1, ax2, ax3) = plt.subplots(ncols=3, figsize=(16, 5))\n",
    "\n",
    "# Plot distribution of number of reviews per business\n",
    "all_review_counts = ax1.hist(business_df['review_count'], bins=25, color='#86bf91')\n",
    "\n",
    "ax1.set(title = \"Reviews\",\n",
    "       xlabel = \"Number of Reviews\", \n",
    "       ylabel = \"Number of Restaurants\")\n",
    "\n",
    "# Plot distribution of ratings across businesses\n",
    "all_ratings = ax2.hist(business_df['rating'], bins=5, color='#86bf91')\n",
    "\n",
    "ax2.set(title = \"Ratings\",\n",
    "       xlabel = \"Rating\", \n",
    "       ylabel = \"Count\")\n",
    "\n",
    "# Plot distribution of prices across businesses\n",
    "all_prices = ax3.hist(business_df['price'], bins=5, color='#86bf91')\n",
    "\n",
    "ax3.set(title = \"Price\",\n",
    "       xlabel = \"Average Price\", \n",
    "       ylabel = \"Count\");\n",
    "\n",
    "# https://matplotlib.org/stable/gallery/statistics/hist.html\n",
    "# https://www.earthdatascience.org/courses/scientists-guide-to-plotting-data-in-python/plot-with-matplotlib/introduction-to-matplotlib-plots/customize-plot-colors-labels-matplotlib/"
   ]
  },
  {
   "cell_type": "markdown",
   "metadata": {},
   "source": [
    "Describe the distributions displayed above and interpret them in the context of your query. (Your answer may differ from the solution branch depending on your query.)"
   ]
  },
  {
   "cell_type": "code",
   "execution_count": null,
   "metadata": {},
   "outputs": [],
   "source": [
    "# Replace None with appropriate text\n",
    "\"\"\"\n",
    "From the Reviews Histogram we can see that:\n",
    "- There is a large spread in the amount of reviews across restaurants - 0 to ~6000 reviews (review this)\n",
    "- Most restaurants have <1000 reviews, with the majority <500\n",
    "- This data is heavily skewed\n",
    "\n",
    "From the Ratings Histogram we can infer that:\n",
    "- The most common rating is 4 out of 5 stars\n",
    "- The second most common is 5 out of 5\n",
    "- This data is heavily skewed\n",
    "\n",
    "From the Price Histogram we can see that:\n",
    "- The majority of reviews give a price rating of 1 - 2 = $ & $$\n",
    "\"\"\""
   ]
  },
  {
   "cell_type": "markdown",
   "metadata": {},
   "source": [
    "## Ratings vs. Price\n",
    "\n",
    "Create a visualization showing the relationship between rating and price. You can do this a few different ways - one option could be to show the average price at each rating using a bar chart."
   ]
  },
  {
   "cell_type": "code",
   "execution_count": 30,
   "metadata": {},
   "outputs": [
    {
     "data": {
      "image/png": "[encoded data removed]",
      "text/plain": [
       "<Figure size 432x288 with 1 Axes>"
      ]
     },
     "metadata": {
      "needs_background": "light"
     },
     "output_type": "display_data"
    }
   ],
   "source": [
    "# Replace None with your code\n",
    "\n",
    "# Calculate average price for each rating\n",
    "rvg = business_df.groupby('rating').agg({'price': 'mean'})\n",
    "\n",
    "# Plot results\n",
    "fig, ax = plt.subplots()\n",
    "\n",
    "ax.bar(x = list(rvg.index),\n",
    "       height = list(rvg['price']),\n",
    "       width = (0.4),\n",
    "       color = '#86bf91')\n",
    "\n",
    "ax.set(title = \"Ratings vs Price\", \n",
    "       xlabel = \"Average rating\", \n",
    "       ylabel = \"Average price\");"
   ]
  },
  {
   "cell_type": "markdown",
   "metadata": {},
   "source": [
    "Is a higher price associated with a higher rating? (No need for any additional math/statistics, just interpret what you see in the plot.)"
   ]
  },
  {
   "cell_type": "code",
   "execution_count": null,
   "metadata": {},
   "outputs": [],
   "source": [
    "# Replace None with appropriate text\n",
    "\"\"\"\n",
    "No, there's no association between price and higher rating.\n",
    "\"\"\""
   ]
  },
  {
   "cell_type": "markdown",
   "metadata": {},
   "source": [
    "## Ratings vs Review Counts\n",
    "\n",
    "Finally, let's look at ratings vs. review counts. You can analyze this relationship similarly to ratings vs. price."
   ]
  },
  {
   "cell_type": "code",
   "execution_count": 32,
   "metadata": {},
   "outputs": [
    {
     "data": {
      "image/png": "[encoded data removed]",
      "text/plain": [
       "<Figure size 432x288 with 1 Axes>"
      ]
     },
     "metadata": {
      "needs_background": "light"
     },
     "output_type": "display_data"
    }
   ],
   "source": [
    "# Replace None with your code\n",
    "\n",
    "# Calculate average review count for each rating\n",
    "rating_review_count = business_df.groupby('rating').agg({'review_count': 'mean'})\n",
    "\n",
    "# Plot results\n",
    "fig, ax = plt.subplots()\n",
    "\n",
    "ax.bar(x = list(rating_review_count.index),\n",
    "       height = list(rating_review_count['review_count']),\n",
    "       width = 0.3,\n",
    "       color = '#86bf91')\n",
    "\n",
    "ax.set(title = \"Ratings vs Reviews\", \n",
    "       xlabel = \"Average Rating\", \n",
    "       ylabel = \"Average Review Count\");"
   ]
  },
  {
   "cell_type": "markdown",
   "metadata": {},
   "source": [
    "Is a higher number of reviews associated with a higher rating?"
   ]
  },
  {
   "cell_type": "code",
   "execution_count": 93,
   "metadata": {},
   "outputs": [
    {
     "data": {
      "text/plain": [
       "'\\nYes, higher rated restaurants (specifically 4 out of 5) receive more reviews.\\n'"
      ]
     },
     "execution_count": 93,
     "metadata": {},
     "output_type": "execute_result"
    }
   ],
   "source": [
    "# Replace None with appropriate text\n",
    "\"\"\"\n",
    "Yes, higher rated restaurants (specifically 4 out of 5) receive more reviews.\n",
    "\"\"\""
   ]
  },
  {
   "cell_type": "markdown",
   "metadata": {},
   "source": [
    "## Level Up: Create a Folium Map\n",
    "\n",
    "Make a map using Folium of the businesses you retrieved. Be sure to also add popups to the markers giving some basic information such as name, rating and price.\n",
    "\n",
    "You can center the map around the latitude and longitude of the first item in your dataset."
   ]
  },
  {
   "cell_type": "code",
   "execution_count": 50,
   "metadata": {},
   "outputs": [
    {
     "data": {
      "text/plain": [
       "name            Prince Street Pizza\n",
       "review_count                   3934\n",
       "rating                          4.5\n",
       "price                             1\n",
       "latitude                    40.7231\n",
       "longitude                  -73.9945\n",
       "Name: 0, dtype: object"
      ]
     },
     "execution_count": 50,
     "metadata": {},
     "output_type": "execute_result"
    }
   ],
   "source": [
    "business_df.iloc[0]"
   ]
  },
  {
   "cell_type": "code",
   "execution_count": 51,
   "metadata": {},
   "outputs": [
    {
     "name": "stdout",
     "output_type": "stream",
     "text": [
      "40.72308755605564\n",
      "-73.99453001177575\n"
     ]
    }
   ],
   "source": [
    "print(business_df.iloc[0]['latitude'])\n",
    "print(business_df.iloc[0]['longitude'])"
   ]
  },
  {
   "cell_type": "code",
   "execution_count": 54,
   "metadata": {},
   "outputs": [
    {
     "ename": "AttributeError",
     "evalue": "'NoneType' object has no attribute 'add_to'",
     "output_type": "error",
     "traceback": [
      "\u001b[0;31m---------------------------------------------------------------------------\u001b[0m",
      "\u001b[0;31mAttributeError\u001b[0m                            Traceback (most recent call last)",
      "\u001b[0;32m<ipython-input-54-8d8d4e5c229a>\u001b[0m in \u001b[0;36m<module>\u001b[0;34m\u001b[0m\n\u001b[1;32m     29\u001b[0m     \u001b[0mmarker\u001b[0m \u001b[0;34m=\u001b[0m \u001b[0;32mNone\u001b[0m\u001b[0;34m\u001b[0m\u001b[0;34m\u001b[0m\u001b[0m\n\u001b[1;32m     30\u001b[0m \u001b[0;34m\u001b[0m\u001b[0m\n\u001b[0;32m---> 31\u001b[0;31m     \u001b[0mmarker\u001b[0m\u001b[0;34m.\u001b[0m\u001b[0madd_to\u001b[0m\u001b[0;34m(\u001b[0m\u001b[0myelp_map\u001b[0m\u001b[0;34m)\u001b[0m\u001b[0;34m\u001b[0m\u001b[0;34m\u001b[0m\u001b[0m\n\u001b[0m\u001b[1;32m     32\u001b[0m \u001b[0;34m\u001b[0m\u001b[0m\n\u001b[1;32m     33\u001b[0m \u001b[0myelp_map\u001b[0m\u001b[0;34m\u001b[0m\u001b[0;34m\u001b[0m\u001b[0m\n",
      "\u001b[0;31mAttributeError\u001b[0m: 'NoneType' object has no attribute 'add_to'"
     ]
    }
   ],
   "source": [
    "# Replace None with appropriate code\n",
    "\n",
    "# Import the library\n",
    "import folium\n",
    "\n",
    "# Set up center latitude and longitude\n",
    "center_lat = business_df.iloc[0]['latitude']\n",
    "center_long = business_df.iloc[0]['longitude']\n",
    "\n",
    "# Initialize map with center lat and long\n",
    "yelp_map = folium.Map([center_lat, center_long], zoom_start=13)\n",
    "\n",
    "# Adjust this limit to see more or fewer businesses\n",
    "limit=100\n",
    "\n",
    "for business in full_dataset[:limit]:\n",
    "    # Extract information about business\n",
    "    lat = business_df.iloc[business]['latitude']\n",
    "    long = business_df.iloc[business]['longitude']\n",
    "    name = business_df.iloc[business]['name']\n",
    "    rating = business_df.iloc[business]['rating']\n",
    "    price = business_df.iloc[business]['price']\n",
    "    details = \"{}\\nPrice: {} Rating:{}\".format(name,price,rating)\n",
    "    \n",
    "    # Create popup with relevant details\n",
    "    popup = None\n",
    "    \n",
    "    # Create marker with relevant lat/long and popup\n",
    "    marker = None\n",
    "    \n",
    "    marker.add_to(yelp_map)\n",
    "    \n",
    "yelp_map"
   ]
  },
  {
   "cell_type": "markdown",
   "metadata": {},
   "source": [
    "# 5. Create Presentation Notebook\n",
    "\n",
    "Now that you've completed your project, let's put it into an easily presentable format so you can add it to your portfolio. To do this, we recommend completing the following steps outside of this notebook.\n",
    "\n",
    "1. Create a new GitHub repository for your project.\n",
    "2. Save a copy of this notebook into your local repository.\n",
    "3. Edit the text and images in the notebook to present your project and help someone else understand it.\n",
    "4. Run your notebook from start to finish, then **delete your API key** and save it.\n",
    "5. Create a README.md file in your repository with a brief summary of your project.\n",
    "6. Push your updated repository to GitHub to share with your instructor and employers!"
   ]
  },
  {
   "cell_type": "markdown",
   "metadata": {},
   "source": [
    "# Level Up: Project Enhancements\n",
    "\n",
    "After completing the project, you could consider the following enhancements if you have time:\n",
    "\n",
    "* Save a cleaned version of your dataset in your repository, then modify the notebook to load and use that dataset for the analysis. This will allow others to replicate your analysis and avoid running their own API queries.\n",
    "* Use `seaborn` to improve the styling of your visualizations\n",
    "* Explain the implications of your findings for business owners or internal Yelp staff\n",
    "* Repeat the project for another business category or location, and compare the results"
   ]
  },
  {
   "cell_type": "markdown",
   "metadata": {},
   "source": [
    "# Summary\n",
    "\n",
    "Nice work! In this lab, you've made multiple API calls to Yelp in order to paginate through a results set, prepared your data for analysis, and then conducted and visualized descriptive analyses. Well done!"
   ]
  }
 ],
 "metadata": {
  "kernelspec": {
   "display_name": "Python 3",
   "language": "python",
   "name": "python3"
  },
  "language_info": {
   "codemirror_mode": {
    "name": "ipython",
    "version": 3
   },
   "file_extension": ".py",
   "mimetype": "text/x-python",
   "name": "python",
   "nbconvert_exporter": "python",
   "pygments_lexer": "ipython3",
   "version": "3.8.5"
  },
  "toc": {
   "base_numbering": 1,
   "nav_menu": {},
   "number_sections": true,
   "sideBar": true,
   "skip_h1_title": false,
   "title_cell": "Table of Contents",
   "title_sidebar": "Contents",
   "toc_cell": false,
   "toc_position": {},
   "toc_section_display": true,
   "toc_window_display": false
  }
 },
 "nbformat": 4,
 "nbformat_minor": 2
}
