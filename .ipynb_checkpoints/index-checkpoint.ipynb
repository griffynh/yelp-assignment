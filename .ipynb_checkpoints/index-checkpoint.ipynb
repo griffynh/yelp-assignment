{
 "cells": [
  {
   "cell_type": "markdown",
   "metadata": {},
   "source": [
    "# Yelp API Project\n",
    "\n",
    "\n",
    "## Introduction \n",
    "\n",
    "We've learned how to query the Yelp API, analyze JSON data and create basic visualizations. It's time to put those skills to work in order to create a project of your own! Taking things a step further, you'll also independently explore how to perform pagination in order to retrieve a full results set from the Yelp API.\n",
    "\n",
    "## Objectives\n",
    "\n",
    "You will be able to: \n",
    "\n",
    "* Practice using functions to organize your code\n",
    "* Use pagination to retrieve all results from an API query\n",
    "* Practice parsing data returned from an API query\n",
    "* Practice interpreting visualizations of a dataset"
   ]
  },
  {
   "cell_type": "markdown",
   "metadata": {},
   "source": [
    "# Task: Query Yelp for All Businesses in a Category and Analyze the Results\n",
    "\n",
    "![restaurant counter with pizza](images/restaurant_counter.jpg)\n",
    "\n",
    "Photo by <a href=\"https://unsplash.com/@jordanmadrid?utm_source=unsplash&utm_medium=referral&utm_content=creditCopyText\">Jordan Madrid</a> on <a href=\"/s/photos/pizza-restaurant?utm_source=unsplash&utm_medium=referral&utm_content=creditCopyText\">Unsplash</a>"
   ]
  },
  {
   "cell_type": "markdown",
   "metadata": {},
   "source": [
    "## Overview\n",
    "\n",
    "You've now worked with some API calls, but we have yet to see how to retrieve a more complete dataset in a programmatic manner. In this lab, you will write a query of businesses on Yelp, then use *pagination* to retrieve all possible results for that query. Then you will pre-process and analyze your data, leading to a presentation of your findings.\n",
    "\n",
    "## Requirements\n",
    "\n",
    "### 1. Make the Initial Request\n",
    "\n",
    "Start by filling in your API key to make the initial request to the business search API. \n",
    "\n",
    "### 2. Add Pagination\n",
    "\n",
    "Using loops and functions, collect the maximum number of results for your query from the API.\n",
    "\n",
    "### 3. Prepare Data\n",
    "\n",
    "Investigate the structure of the response you get back and extract the relevant information.\n",
    "\n",
    "### 4. Perform Descriptive Analysis\n",
    "\n",
    "Interpret visualizations related to the price range, average rating, and number of reviews for all query results.\n",
    "\n",
    "### 5. Create Presentation Notebook\n",
    "\n",
    "Edit this notebook or create a new one to showcase your work."
   ]
  },
  {
   "cell_type": "markdown",
   "metadata": {},
   "source": [
    "# 1. Make the Initial Request\n",
    "\n",
    "## Querying\n",
    "\n",
    "Start by making an initial request to the Yelp API. Your search must include at least 2 parameters: **term** and **location**. For example, you might search for pizza restaurants in NYC. The term and location is up to you but make the request below.\n",
    "\n",
    "Use the `requests` library ([documentation here](https://requests.readthedocs.io/en/master/user/quickstart/#make-a-request)).\n",
    "\n",
    "You'll also need an API key from Yelp. If you haven't done this already, go to the Yelp [Manage App page](https://www.yelp.com/developers/v3/manage_app) and create a new app (after making an account if you haven't already)."
   ]
  },
  {
   "cell_type": "code",
   "execution_count": 51,
   "metadata": {},
   "outputs": [],
   "source": [
    "import json\n",
    "\n",
    "def get_keys(path):\n",
    "    with open(path) as f:\n",
    "        return json.load(f)"
   ]
  },
  {
   "cell_type": "code",
   "execution_count": 52,
   "metadata": {},
   "outputs": [
    {
     "name": "stdout",
     "output_type": "stream",
     "text": [
      "200\n",
      "True\n"
     ]
    }
   ],
   "source": [
    "# Replace None with appropriate code\n",
    "\n",
    "# Import the requests library\n",
    "import requests\n",
    "\n",
    "# Get this from the \"Manage App\" page. Make sure you set them\n",
    "# back to None before pushing this to GitHub, since otherwise\n",
    "# your credentials will be compromised\n",
    "\n",
    "keys = get_keys(\"\") # Key goes here\n",
    "api_key = keys['api_key']\n",
    "\n",
    "# These can be whatever you want! But the solution uses \"pizza\"\n",
    "# and \"New York NY\" if you want to compare your work directly\n",
    "term = \"pizza\"\n",
    "location = \"New York NY\"\n",
    " \n",
    "# Set up params for request\n",
    "url = \"https://api.yelp.com/v3/businesses/search\"\n",
    "headers = {\n",
    "    \"Authorization\": \"Bearer {}\".format(api_key)\n",
    "}\n",
    "url_params = {\n",
    "    \"term\": term.replace(\" \", \"+\"),\n",
    "    \"location\": location.replace(\" \", \"+\")\n",
    "}\n",
    "\n",
    "# Make the request using requests.get, passing in\n",
    "# url, headers=headers, and params=url_params\n",
    "response = requests.get(url, headers=headers, params=url_params)\n",
    "\n",
    "# Confirm we got a 200 response\n",
    "\n",
    "print(requests.codes.ok)\n",
    "print(response.status_code == requests.codes.ok)"
   ]
  },
  {
   "cell_type": "code",
   "execution_count": 54,
   "metadata": {},
   "outputs": [
    {
     "data": {
      "text/plain": [
       "dict_keys(['businesses', 'total', 'region'])"
      ]
     },
     "execution_count": 54,
     "metadata": {},
     "output_type": "execute_result"
    }
   ],
   "source": [
    "# Run this cell without changes\n",
    "\n",
    "# Get the response body in JSON format\n",
    "response_json = response.json()\n",
    "\n",
    "# View the keys\n",
    "response_json.keys()"
   ]
  },
  {
   "cell_type": "code",
   "execution_count": 55,
   "metadata": {},
   "outputs": [
    {
     "name": "stdout",
     "output_type": "stream",
     "text": [
      "Key: Businesses\n",
      "Type: <class 'list'>\n",
      "Length: 20\n",
      "\n",
      "Key: Total\n",
      "Type: <class 'int'>\n",
      "Length: 11800\n",
      "\n",
      "Key: Region\n",
      "Type: <class 'dict'>\n",
      "Type: <class 'dict'>\n",
      "dict_keys(['longitude', 'latitude'])\n"
     ]
    }
   ],
   "source": [
    "# Checking the type and size of the top level keys\n",
    "\n",
    "print('Key: Businesses')\n",
    "print('Type:', type(response_json['businesses']))\n",
    "print('Length:', len(response_json['businesses']))\n",
    "\n",
    "print('\\nKey: Total')\n",
    "print('Type:', type(response_json['total']))\n",
    "print('Length:', response_json['total'])\n",
    "\n",
    "print('\\nKey: Region')\n",
    "print('Type:', type(response_json['region'])) # Region key type = dict\n",
    "region = response_json['region'] # Set region variable\n",
    "print('Type:', type(region['center'])) # Center key type = dict\n",
    "center = region['center'] # Set center variable\n",
    "print(center.keys()) # Long / Lat"
   ]
  },
  {
   "cell_type": "markdown",
   "metadata": {},
   "source": [
    "## Extracting Data\n",
    "\n",
    "Now, retrieve the value associated with the `'businesses'` key, and inspect its contents."
   ]
  },
  {
   "cell_type": "code",
   "execution_count": 56,
   "metadata": {},
   "outputs": [
    {
     "name": "stdout",
     "output_type": "stream",
     "text": [
      "\n",
      "There are 20 businesses in this response\n"
     ]
    },
    {
     "data": {
      "text/plain": [
       "[{'id': 'zj8Lq1T8KIC5zwFief15jg',\n",
       "  'alias': 'prince-street-pizza-new-york-2',\n",
       "  'name': 'Prince Street Pizza',\n",
       "  'image_url': 'https://s3-media3.fl.yelpcdn.com/bphoto/ZAukOyv530w4KjOHC5YY1w/o.jpg',\n",
       "  'is_closed': False,\n",
       "  'url': 'https://www.yelp.com/biz/prince-street-pizza-new-york-2?adjust_creative=Autr_aWUiis-5UD_Bri39g&utm_campaign=yelp_api_v3&utm_medium=api_v3_business_search&utm_source=Autr_aWUiis-5UD_Bri39g',\n",
       "  'review_count': 3936,\n",
       "  'categories': [{'alias': 'pizza', 'title': 'Pizza'},\n",
       "   {'alias': 'italian', 'title': 'Italian'}],\n",
       "  'rating': 4.5,\n",
       "  'coordinates': {'latitude': 40.72308755605564,\n",
       "   'longitude': -73.99453001177575},\n",
       "  'transactions': ['delivery', 'pickup'],\n",
       "  'price': '$',\n",
       "  'location': {'address1': '27 Prince St',\n",
       "   'address2': None,\n",
       "   'address3': '',\n",
       "   'city': 'New York',\n",
       "   'zip_code': '10012',\n",
       "   'country': 'US',\n",
       "   'state': 'NY',\n",
       "   'display_address': ['27 Prince St', 'New York, NY 10012']},\n",
       "  'phone': '+12129664100',\n",
       "  'display_phone': '(212) 966-4100',\n",
       "  'distance': 1961.8771417367063},\n",
       " {'id': 'ysqgdbSrezXgVwER2kQWKA',\n",
       "  'alias': 'julianas-brooklyn-3',\n",
       "  'name': \"Juliana's\",\n",
       "  'image_url': 'https://s3-media2.fl.yelpcdn.com/bphoto/clscwgOF9_Ecq-Rwsq7jyQ/o.jpg',\n",
       "  'is_closed': False,\n",
       "  'url': 'https://www.yelp.com/biz/julianas-brooklyn-3?adjust_creative=Autr_aWUiis-5UD_Bri39g&utm_campaign=yelp_api_v3&utm_medium=api_v3_business_search&utm_source=Autr_aWUiis-5UD_Bri39g',\n",
       "  'review_count': 2339,\n",
       "  'categories': [{'alias': 'pizza', 'title': 'Pizza'}],\n",
       "  'rating': 4.5,\n",
       "  'coordinates': {'latitude': 40.70274718768062,\n",
       "   'longitude': -73.99343490196397},\n",
       "  'transactions': ['delivery'],\n",
       "  'price': '$$',\n",
       "  'location': {'address1': '19 Old Fulton St',\n",
       "   'address2': '',\n",
       "   'address3': '',\n",
       "   'city': 'Brooklyn',\n",
       "   'zip_code': '11201',\n",
       "   'country': 'US',\n",
       "   'state': 'NY',\n",
       "   'display_address': ['19 Old Fulton St', 'Brooklyn, NY 11201']},\n",
       "  'phone': '+17185966700',\n",
       "  'display_phone': '(718) 596-6700',\n",
       "  'distance': 308.56984360837544}]"
      ]
     },
     "execution_count": 56,
     "metadata": {},
     "output_type": "execute_result"
    }
   ],
   "source": [
    "# Replace None with appropriate code\n",
    "\n",
    "# Retrieve the value from response_json\n",
    "businesses = response_json['businesses']\n",
    "\n",
    "# View number of records\n",
    "print(f\"\\nThere are {len(businesses)} businesses in this response\")\n",
    "\n",
    "# View the first 2 records\n",
    "businesses[:2]"
   ]
  },
  {
   "cell_type": "markdown",
   "metadata": {},
   "source": [
    "# 2. Add Pagination\n",
    "\n",
    "Now that you are able to get one set of responses, known as a **page**, let's figure out how to request as many pages as possible.\n",
    "\n",
    "## Technical Details\n",
    "\n",
    "Returning to the Yelp API, the [documentation](https://www.yelp.com/developers/documentation/v3/business_search) also provides us details regarding the **API limits**. These often include details about the number of requests a user is allowed to make within a specified time limit and the maximum number of results to be returned. In this case, we are told that any request has a **maximum of 50 results per request** and defaults to 20. Furthermore, any search will be limited to a **total of 1000 results**. To retrieve all 1000 of these results, we would have to page through the results piece by piece, retrieving 50 at a time. Processes such as these are often referred to as pagination.\n",
    "\n",
    "Also, be mindful of the **API** ***rate*** **limits**. You can only make **5000 requests per day** and are also can make requests too fast. Start prototyping small before running a loop that could be faulty. You can also use `time.sleep(n)` to add delays. For more details see https://www.yelp.com/developers/documentation/v3/rate_limiting.\n",
    "\n",
    "In this lab, you will define a search and then paginate over the results to retrieve all of the results. You'll then parse these responses as a list of dictionaries (for further exploration) and create a map using Folium to visualize the results geographically.\n",
    "\n",
    "## Determining the Total\n",
    "\n",
    "Depending on the number of total results for your query, you will either retrieve all of the results, or just the first 1000 (if there are more than 1000 total).\n",
    "\n",
    "We can find the total number of results using the `\"total\"` key:"
   ]
  },
  {
   "cell_type": "code",
   "execution_count": 57,
   "metadata": {},
   "outputs": [
    {
     "data": {
      "text/plain": [
       "11800"
      ]
     },
     "execution_count": 57,
     "metadata": {},
     "output_type": "execute_result"
    }
   ],
   "source": [
    "# Run this cell without changes\n",
    "response_json[\"total\"]"
   ]
  },
  {
   "cell_type": "markdown",
   "metadata": {},
   "source": [
    "(This is specific to the implementation of the Yelp API. Some APIs will just tell you that there are more pages, or will tell you the number of pages total, rather than the total number of results. If you're not sure, always check the documentation.)\n",
    "\n",
    "In the cell below, assign the variable `total` to either the value shown above (if it is less than 1000), or 1000."
   ]
  },
  {
   "cell_type": "code",
   "execution_count": 58,
   "metadata": {},
   "outputs": [
    {
     "data": {
      "text/plain": [
       "1000"
      ]
     },
     "execution_count": 58,
     "metadata": {},
     "output_type": "execute_result"
    }
   ],
   "source": [
    "# Replace None with appropriate code\n",
    "\n",
    "if response_json[\"total\"] < 1000:\n",
    "    total = response_json[\"total\"]\n",
    "else:\n",
    "    total = 1000\n",
    "    \n",
    "total"
   ]
  },
  {
   "cell_type": "markdown",
   "metadata": {},
   "source": [
    "### Calculating the Offsets\n",
    "\n",
    "The documentation states in the parameters section:\n",
    "\n",
    "> **Name**: `limit`, **Type:** int, **Description:** Optional. Number of business results to return. By default, it will return 20. Maximum is 50.\n",
    "\n",
    "> **Name**: `offset`, **Type:** int, **Description:** Optional. Offset the list of returned business results by this amount.\n",
    "\n",
    "So, to get the most results with the fewest API calls we want to set a limit of 50 every time. If, say, we wanted to get 210 total results, that would mean:\n",
    "\n",
    "1. Offset of `0` (first 50 records)\n",
    "2. Offset of `50` (second 50 records)\n",
    "3. Offset of `100` (third 50 records)\n",
    "4. Offset of `150` (fourth 50 records)\n",
    "5. Offset of `200` (final 10 records)\n",
    "\n",
    "In the cell below, create a function `get_offsets` that takes in a total and returns a list of offsets for that total. You can assume that there is a limit of 50 every time.\n",
    "\n",
    "*Hint: you can use `range` ([documentation here](https://docs.python.org/3.3/library/stdtypes.html?highlight=range#range)) to do this in one line of code. Just make the returned result is a list.*"
   ]
  },
  {
   "cell_type": "code",
   "execution_count": 60,
   "metadata": {},
   "outputs": [],
   "source": [
    "# Replace None with appropriate code\n",
    "def get_offsets(total):\n",
    "    \"\"\"\n",
    "    Get a list of offsets needed to get all pages\n",
    "    of data up until the total\n",
    "    \"\"\"\n",
    "    \n",
    "    start = 0\n",
    "    stop = total\n",
    "    step = 50\n",
    "\n",
    "    return list(range(start, stop, step))"
   ]
  },
  {
   "cell_type": "markdown",
   "metadata": {},
   "source": [
    "Check that your function works below:"
   ]
  },
  {
   "cell_type": "code",
   "execution_count": 61,
   "metadata": {},
   "outputs": [],
   "source": [
    "# Run this cell without changes\n",
    "\n",
    "assert get_offsets(200) == [0, 50, 100, 150]\n",
    "assert get_offsets(210) == [0, 50, 100, 150, 200]"
   ]
  },
  {
   "cell_type": "markdown",
   "metadata": {},
   "source": [
    "### Putting It All Together\n",
    "\n",
    "Recall that the following variable has already been declared for you:"
   ]
  },
  {
   "cell_type": "code",
   "execution_count": 62,
   "metadata": {},
   "outputs": [
    {
     "data": {
      "text/plain": [
       "{'term': 'pizza', 'location': 'New+York+NY'}"
      ]
     },
     "execution_count": 62,
     "metadata": {},
     "output_type": "execute_result"
    }
   ],
   "source": [
    "# Run this cell without changes\n",
    "url_params"
   ]
  },
  {
   "cell_type": "markdown",
   "metadata": {},
   "source": [
    "We'll go ahead and also specify that the limit should be 50 every time:"
   ]
  },
  {
   "cell_type": "code",
   "execution_count": 63,
   "metadata": {},
   "outputs": [],
   "source": [
    "# Run this cell without changes\n",
    "url_params[\"limit\"] = 50"
   ]
  },
  {
   "cell_type": "markdown",
   "metadata": {},
   "source": [
    "In order to modify the offset, you'll need to add it to `url_params` with the key `\"offset\"` and whatever value is needed.\n",
    "\n",
    "In the cell below, write code that:\n",
    "\n",
    "* Creates an empty list for the full prepared dataset\n",
    "* Loops over all of the offsets from `get_offsets` and makes an API call each time with the specified offset\n",
    "* Extends the full dataset list with each query's dataset"
   ]
  },
  {
   "cell_type": "code",
   "execution_count": 64,
   "metadata": {},
   "outputs": [
    {
     "data": {
      "text/plain": [
       "1000"
      ]
     },
     "execution_count": 64,
     "metadata": {},
     "output_type": "execute_result"
    }
   ],
   "source": [
    "# Replace None with appropriate code\n",
    "\n",
    "# Create an empty list for the full prepared dataset\n",
    "full_dataset = []\n",
    "\n",
    "for offset in get_offsets(total):\n",
    "    # Add or update the \"offset\" key-value pair in url_params\n",
    "    url_params[\"offset\"] = offset\n",
    "    \n",
    "    # Make the query and get the response\n",
    "    response = requests.get(url, headers=headers, params=url_params)\n",
    "    \n",
    "    # Get the response body in JSON format\n",
    "    response_json = response.json()\n",
    "    \n",
    "    # Get the list of businesses from the response_json\n",
    "    businesses = response_json['businesses']\n",
    "    \n",
    "    # Extend full_dataset with this list (don't append, or you'll get\n",
    "    # a list of lists instead of a flat list)\n",
    "    for business in businesses:\n",
    "        full_dataset.append(business)\n",
    "\n",
    "# Check the length of the full dataset. It will be up to `total`,\n",
    "# potentially less if there were missing values\n",
    "len(full_dataset)"
   ]
  },
  {
   "cell_type": "markdown",
   "metadata": {},
   "source": [
    "This code may take up to a few minutes to run.\n",
    "\n",
    "If you get an error trying to get the response body in JSON format, try adding `time.sleep(1)` right after the `requests.get` line, so your code will sleep for 1 second between each API call."
   ]
  },
  {
   "cell_type": "markdown",
   "metadata": {},
   "source": [
    "# 3. Prepare Data\n",
    "\n",
    "Now that we have all of our data, let's prepare it for analysis. It can be helpful to start this process by inspecting the raw data."
   ]
  },
  {
   "cell_type": "code",
   "execution_count": 65,
   "metadata": {
    "scrolled": true
   },
   "outputs": [
    {
     "data": {
      "text/plain": [
       "[{'id': 'zj8Lq1T8KIC5zwFief15jg',\n",
       "  'alias': 'prince-street-pizza-new-york-2',\n",
       "  'name': 'Prince Street Pizza',\n",
       "  'image_url': 'https://s3-media3.fl.yelpcdn.com/bphoto/ZAukOyv530w4KjOHC5YY1w/o.jpg',\n",
       "  'is_closed': False,\n",
       "  'url': 'https://www.yelp.com/biz/prince-street-pizza-new-york-2?adjust_creative=Autr_aWUiis-5UD_Bri39g&utm_campaign=yelp_api_v3&utm_medium=api_v3_business_search&utm_source=Autr_aWUiis-5UD_Bri39g',\n",
       "  'review_count': 3936,\n",
       "  'categories': [{'alias': 'pizza', 'title': 'Pizza'},\n",
       "   {'alias': 'italian', 'title': 'Italian'}],\n",
       "  'rating': 4.5,\n",
       "  'coordinates': {'latitude': 40.72308755605564,\n",
       "   'longitude': -73.99453001177575},\n",
       "  'transactions': ['delivery', 'pickup'],\n",
       "  'price': '$',\n",
       "  'location': {'address1': '27 Prince St',\n",
       "   'address2': None,\n",
       "   'address3': '',\n",
       "   'city': 'New York',\n",
       "   'zip_code': '10012',\n",
       "   'country': 'US',\n",
       "   'state': 'NY',\n",
       "   'display_address': ['27 Prince St', 'New York, NY 10012']},\n",
       "  'phone': '+12129664100',\n",
       "  'display_phone': '(212) 966-4100',\n",
       "  'distance': 1961.8771417367063},\n",
       " {'id': 'ysqgdbSrezXgVwER2kQWKA',\n",
       "  'alias': 'julianas-brooklyn-3',\n",
       "  'name': \"Juliana's\",\n",
       "  'image_url': 'https://s3-media2.fl.yelpcdn.com/bphoto/clscwgOF9_Ecq-Rwsq7jyQ/o.jpg',\n",
       "  'is_closed': False,\n",
       "  'url': 'https://www.yelp.com/biz/julianas-brooklyn-3?adjust_creative=Autr_aWUiis-5UD_Bri39g&utm_campaign=yelp_api_v3&utm_medium=api_v3_business_search&utm_source=Autr_aWUiis-5UD_Bri39g',\n",
       "  'review_count': 2339,\n",
       "  'categories': [{'alias': 'pizza', 'title': 'Pizza'}],\n",
       "  'rating': 4.5,\n",
       "  'coordinates': {'latitude': 40.70274718768062,\n",
       "   'longitude': -73.99343490196397},\n",
       "  'transactions': ['delivery'],\n",
       "  'price': '$$',\n",
       "  'location': {'address1': '19 Old Fulton St',\n",
       "   'address2': '',\n",
       "   'address3': '',\n",
       "   'city': 'Brooklyn',\n",
       "   'zip_code': '11201',\n",
       "   'country': 'US',\n",
       "   'state': 'NY',\n",
       "   'display_address': ['19 Old Fulton St', 'Brooklyn, NY 11201']},\n",
       "  'phone': '+17185966700',\n",
       "  'display_phone': '(718) 596-6700',\n",
       "  'distance': 308.56984360837544}]"
      ]
     },
     "execution_count": 65,
     "metadata": {},
     "output_type": "execute_result"
    }
   ],
   "source": [
    "# Run this cell without changes\n",
    "\n",
    "# View the first 2 records\n",
    "full_dataset[:2]"
   ]
  },
  {
   "cell_type": "code",
   "execution_count": 67,
   "metadata": {},
   "outputs": [
    {
     "name": "stdout",
     "output_type": "stream",
     "text": [
      "Prince Street Pizza\n",
      "3936\n",
      "4.5\n",
      "$\n",
      "{'latitude': 40.72308755605564, 'longitude': -73.99453001177575}\n",
      "40.72308755605564\n",
      "-73.99453001177575\n"
     ]
    }
   ],
   "source": [
    "# Looking into the first record\n",
    "\n",
    "first_record = full_dataset[0]\n",
    "first_record.keys()\n",
    "print(first_record['name'])\n",
    "print(first_record['review_count'])\n",
    "print(first_record['rating'])\n",
    "print(first_record['price'])\n",
    "print(first_record['coordinates'])\n",
    "print(first_record['coordinates']['latitude'])\n",
    "print(first_record['coordinates']['longitude'])"
   ]
  },
  {
   "cell_type": "markdown",
   "metadata": {},
   "source": [
    "Write a function `prepare_data` that takes in a list of dictionaries like `businesses` and returns a copy that has been prepared for analysis:\n",
    "\n",
    "1. The `coordinates` key-value pair has been converted into two separate key-value pairs, `latitude` and `longitude`\n",
    "2. All other key-value pairs except for `name`, `review_count`, `rating`, and `price` have been dropped\n",
    "3. All dictionaries missing one of the relevant keys or containing null values have been dropped\n",
    "\n",
    "In other words, the final keys for each dictionary should be `name`, `review_count`, `rating`, `price`, `latitude`, and `longitude`.\n",
    "\n",
    "Complete the function in the cell below:"
   ]
  },
  {
   "cell_type": "code",
   "execution_count": 68,
   "metadata": {
    "scrolled": true
   },
   "outputs": [
    {
     "data": {
      "text/plain": [
       "[{'name': 'Prince Street Pizza',\n",
       "  'review_count': 3936,\n",
       "  'rating': 4.5,\n",
       "  'price': '$',\n",
       "  'latitude': 40.72308755605564,\n",
       "  'longitude': -73.99453001177575},\n",
       " {'name': \"Juliana's\",\n",
       "  'review_count': 2339,\n",
       "  'rating': 4.5,\n",
       "  'price': '$$',\n",
       "  'latitude': 40.70274718768062,\n",
       "  'longitude': -73.99343490196397},\n",
       " {'name': \"Lombardi's Pizza\",\n",
       "  'review_count': 6179,\n",
       "  'rating': 4.0,\n",
       "  'price': '$$',\n",
       "  'latitude': 40.7215934960083,\n",
       "  'longitude': -73.9955956044561},\n",
       " {'name': 'Lucali',\n",
       "  'review_count': 1697,\n",
       "  'rating': 4.0,\n",
       "  'price': '$$',\n",
       "  'latitude': 40.6818,\n",
       "  'longitude': -74.00024},\n",
       " {'name': 'Rubirosa',\n",
       "  'review_count': 2421,\n",
       "  'rating': 4.5,\n",
       "  'price': '$$',\n",
       "  'latitude': 40.722766,\n",
       "  'longitude': -73.996233}]"
      ]
     },
     "execution_count": 68,
     "metadata": {},
     "output_type": "execute_result"
    }
   ],
   "source": [
    "# Replace None with appropriate code\n",
    "\n",
    "def prepare_data(data_list):\n",
    "    \"\"\"\n",
    "    This function takes in a list of dictionaries and prepares it\n",
    "    for analysis\n",
    "    \"\"\"\n",
    "    \n",
    "    # Make a new list to hold results\n",
    "    results = []\n",
    "    keys = ['name', 'review_count', 'rating', 'price']\n",
    "    \n",
    "    for business_data in data_list:\n",
    "    \n",
    "        # Make a new dictionary to hold prepared data for this business\n",
    "        prepared_data = {}\n",
    "        \n",
    "        # Extract name, review_count, rating, and price key-value pairs\n",
    "        # from business_data and add to prepared_data\n",
    "        \n",
    "        business_keys = business_data.keys()\n",
    "        \n",
    "        # If a key is not present in business_data, add it to prepared_data\n",
    "        # with an associated value of None\n",
    "        \n",
    "        for key in keys:\n",
    "            if key in business_keys:\n",
    "                prepared_data[key] = business_data[key]\n",
    "            else:\n",
    "                prepared_data[key] = 'None'    \n",
    "                \n",
    "        # Parse and add latitude and longitude columns\n",
    "        \n",
    "        prepared_data['latitude'] = business_data['coordinates']['latitude']\n",
    "        prepared_data['longitude'] = business_data['coordinates']['longitude']\n",
    "\n",
    "        results.append(prepared_data)\n",
    "    \n",
    "    return results\n",
    "    \n",
    "# Test out function\n",
    "prepared_businesses = prepare_data(full_dataset)\n",
    "prepared_businesses[:5]"
   ]
  },
  {
   "cell_type": "markdown",
   "metadata": {},
   "source": [
    "Check that your function created the correct keys:"
   ]
  },
  {
   "cell_type": "code",
   "execution_count": 69,
   "metadata": {},
   "outputs": [],
   "source": [
    "# Run this cell without changes\n",
    "\n",
    "assert sorted(list(prepared_businesses[0].keys())) == ['latitude', 'longitude', 'name', 'price', 'rating', 'review_count']"
   ]
  },
  {
   "cell_type": "markdown",
   "metadata": {},
   "source": [
    "The following code will differ depending on your query, but there may be fewer results in the prepared list than in the full dataset (if any of them were missing data):"
   ]
  },
  {
   "cell_type": "code",
   "execution_count": 70,
   "metadata": {},
   "outputs": [
    {
     "name": "stdout",
     "output_type": "stream",
     "text": [
      "Original: 1000\n",
      "Prepared: 1000\n"
     ]
    }
   ],
   "source": [
    "# Run this cell without changes\n",
    "print(\"Original:\", len(full_dataset))\n",
    "print(\"Prepared:\", len(prepared_businesses))"
   ]
  },
  {
   "cell_type": "markdown",
   "metadata": {},
   "source": [
    "Great! Now let's create a DataFrame to hold our data - this will make our cleaning and analysis easier."
   ]
  },
  {
   "cell_type": "code",
   "execution_count": 71,
   "metadata": {
    "scrolled": true
   },
   "outputs": [
    {
     "data": {
      "text/html": [
       "<div>\n",
       "<style scoped>\n",
       "    .dataframe tbody tr th:only-of-type {\n",
       "        vertical-align: middle;\n",
       "    }\n",
       "\n",
       "    .dataframe tbody tr th {\n",
       "        vertical-align: top;\n",
       "    }\n",
       "\n",
       "    .dataframe thead th {\n",
       "        text-align: right;\n",
       "    }\n",
       "</style>\n",
       "<table border=\"1\" class=\"dataframe\">\n",
       "  <thead>\n",
       "    <tr style=\"text-align: right;\">\n",
       "      <th></th>\n",
       "      <th>name</th>\n",
       "      <th>review_count</th>\n",
       "      <th>rating</th>\n",
       "      <th>price</th>\n",
       "      <th>latitude</th>\n",
       "      <th>longitude</th>\n",
       "    </tr>\n",
       "  </thead>\n",
       "  <tbody>\n",
       "    <tr>\n",
       "      <th>0</th>\n",
       "      <td>Prince Street Pizza</td>\n",
       "      <td>3936</td>\n",
       "      <td>4.5</td>\n",
       "      <td>$</td>\n",
       "      <td>40.723088</td>\n",
       "      <td>-73.994530</td>\n",
       "    </tr>\n",
       "    <tr>\n",
       "      <th>1</th>\n",
       "      <td>Juliana's</td>\n",
       "      <td>2339</td>\n",
       "      <td>4.5</td>\n",
       "      <td>$$</td>\n",
       "      <td>40.702747</td>\n",
       "      <td>-73.993435</td>\n",
       "    </tr>\n",
       "    <tr>\n",
       "      <th>2</th>\n",
       "      <td>Lombardi's Pizza</td>\n",
       "      <td>6179</td>\n",
       "      <td>4.0</td>\n",
       "      <td>$$</td>\n",
       "      <td>40.721593</td>\n",
       "      <td>-73.995596</td>\n",
       "    </tr>\n",
       "    <tr>\n",
       "      <th>3</th>\n",
       "      <td>Lucali</td>\n",
       "      <td>1697</td>\n",
       "      <td>4.0</td>\n",
       "      <td>$$</td>\n",
       "      <td>40.681800</td>\n",
       "      <td>-74.000240</td>\n",
       "    </tr>\n",
       "    <tr>\n",
       "      <th>4</th>\n",
       "      <td>Rubirosa</td>\n",
       "      <td>2421</td>\n",
       "      <td>4.5</td>\n",
       "      <td>$$</td>\n",
       "      <td>40.722766</td>\n",
       "      <td>-73.996233</td>\n",
       "    </tr>\n",
       "  </tbody>\n",
       "</table>\n",
       "</div>"
      ],
      "text/plain": [
       "                  name  review_count  rating price   latitude  longitude\n",
       "0  Prince Street Pizza          3936     4.5     $  40.723088 -73.994530\n",
       "1            Juliana's          2339     4.5    $$  40.702747 -73.993435\n",
       "2     Lombardi's Pizza          6179     4.0    $$  40.721593 -73.995596\n",
       "3               Lucali          1697     4.0    $$  40.681800 -74.000240\n",
       "4             Rubirosa          2421     4.5    $$  40.722766 -73.996233"
      ]
     },
     "execution_count": 71,
     "metadata": {},
     "output_type": "execute_result"
    }
   ],
   "source": [
    "# Replace None with appropriate code\n",
    "\n",
    "# Import pandas\n",
    "import pandas as pd\n",
    "\n",
    "# Create DataFrame from prepared business data\n",
    "business_df = pd.DataFrame(prepared_businesses)\n",
    "\n",
    "# Inspect the DataFrame\n",
    "business_df.head()"
   ]
  },
  {
   "cell_type": "code",
   "execution_count": 72,
   "metadata": {
    "scrolled": true
   },
   "outputs": [
    {
     "name": "stdout",
     "output_type": "stream",
     "text": [
      "Dataframe info\n",
      "(1000, 6)\n",
      "RangeIndex(start=0, stop=1000, step=1)\n",
      "Index(['name', 'review_count', 'rating', 'price', 'latitude', 'longitude'], dtype='object')\n",
      "name             object\n",
      "review_count      int64\n",
      "rating          float64\n",
      "price            object\n",
      "latitude        float64\n",
      "longitude       float64\n",
      "dtype: object\n"
     ]
    }
   ],
   "source": [
    "print('Dataframe info')\n",
    "\n",
    "print(business_df.shape)\n",
    "print(business_df.index)\n",
    "print(business_df.columns)\n",
    "print(business_df.dtypes)"
   ]
  },
  {
   "cell_type": "markdown",
   "metadata": {},
   "source": [
    "To make analysis of prices easier, let's convert `price` to a numeric value indicating the number of dollar signs."
   ]
  },
  {
   "cell_type": "code",
   "execution_count": 73,
   "metadata": {
    "scrolled": false
   },
   "outputs": [
    {
     "data": {
      "text/html": [
       "<div>\n",
       "<style scoped>\n",
       "    .dataframe tbody tr th:only-of-type {\n",
       "        vertical-align: middle;\n",
       "    }\n",
       "\n",
       "    .dataframe tbody tr th {\n",
       "        vertical-align: top;\n",
       "    }\n",
       "\n",
       "    .dataframe thead th {\n",
       "        text-align: right;\n",
       "    }\n",
       "</style>\n",
       "<table border=\"1\" class=\"dataframe\">\n",
       "  <thead>\n",
       "    <tr style=\"text-align: right;\">\n",
       "      <th></th>\n",
       "      <th>name</th>\n",
       "      <th>review_count</th>\n",
       "      <th>rating</th>\n",
       "      <th>price</th>\n",
       "      <th>latitude</th>\n",
       "      <th>longitude</th>\n",
       "    </tr>\n",
       "  </thead>\n",
       "  <tbody>\n",
       "    <tr>\n",
       "      <th>0</th>\n",
       "      <td>Prince Street Pizza</td>\n",
       "      <td>3936</td>\n",
       "      <td>4.5</td>\n",
       "      <td>1</td>\n",
       "      <td>40.723088</td>\n",
       "      <td>-73.994530</td>\n",
       "    </tr>\n",
       "    <tr>\n",
       "      <th>1</th>\n",
       "      <td>Juliana's</td>\n",
       "      <td>2339</td>\n",
       "      <td>4.5</td>\n",
       "      <td>2</td>\n",
       "      <td>40.702747</td>\n",
       "      <td>-73.993435</td>\n",
       "    </tr>\n",
       "    <tr>\n",
       "      <th>2</th>\n",
       "      <td>Lombardi's Pizza</td>\n",
       "      <td>6179</td>\n",
       "      <td>4.0</td>\n",
       "      <td>2</td>\n",
       "      <td>40.721593</td>\n",
       "      <td>-73.995596</td>\n",
       "    </tr>\n",
       "    <tr>\n",
       "      <th>3</th>\n",
       "      <td>Lucali</td>\n",
       "      <td>1697</td>\n",
       "      <td>4.0</td>\n",
       "      <td>2</td>\n",
       "      <td>40.681800</td>\n",
       "      <td>-74.000240</td>\n",
       "    </tr>\n",
       "    <tr>\n",
       "      <th>4</th>\n",
       "      <td>Rubirosa</td>\n",
       "      <td>2421</td>\n",
       "      <td>4.5</td>\n",
       "      <td>2</td>\n",
       "      <td>40.722766</td>\n",
       "      <td>-73.996233</td>\n",
       "    </tr>\n",
       "  </tbody>\n",
       "</table>\n",
       "</div>"
      ],
      "text/plain": [
       "                  name  review_count  rating  price   latitude  longitude\n",
       "0  Prince Street Pizza          3936     4.5      1  40.723088 -73.994530\n",
       "1            Juliana's          2339     4.5      2  40.702747 -73.993435\n",
       "2     Lombardi's Pizza          6179     4.0      2  40.721593 -73.995596\n",
       "3               Lucali          1697     4.0      2  40.681800 -74.000240\n",
       "4             Rubirosa          2421     4.5      2  40.722766 -73.996233"
      ]
     },
     "execution_count": 73,
     "metadata": {},
     "output_type": "execute_result"
    }
   ],
   "source": [
    "# Replace None with appropriate code\n",
    "\n",
    "business_df['price'] = (business_df['price']).str.len()\n",
    "\n",
    "business_df.head()"
   ]
  },
  {
   "cell_type": "markdown",
   "metadata": {},
   "source": [
    "# 4. Perform Descriptive Analysis\n",
    "\n",
    "## Descriptive Statistics\n",
    "\n",
    "Take the businesses from the previous question and do an initial descriptive analysis. Calculate summary statistics for the review counts, average rating, and price."
   ]
  },
  {
   "cell_type": "code",
   "execution_count": 74,
   "metadata": {},
   "outputs": [
    {
     "data": {
      "text/html": [
       "<div>\n",
       "<style scoped>\n",
       "    .dataframe tbody tr th:only-of-type {\n",
       "        vertical-align: middle;\n",
       "    }\n",
       "\n",
       "    .dataframe tbody tr th {\n",
       "        vertical-align: top;\n",
       "    }\n",
       "\n",
       "    .dataframe thead th {\n",
       "        text-align: right;\n",
       "    }\n",
       "</style>\n",
       "<table border=\"1\" class=\"dataframe\">\n",
       "  <thead>\n",
       "    <tr style=\"text-align: right;\">\n",
       "      <th></th>\n",
       "      <th>price</th>\n",
       "      <th>rating</th>\n",
       "      <th>review_count</th>\n",
       "    </tr>\n",
       "  </thead>\n",
       "  <tbody>\n",
       "    <tr>\n",
       "      <th>count</th>\n",
       "      <td>1000.00</td>\n",
       "      <td>1000.00</td>\n",
       "      <td>1000.00</td>\n",
       "    </tr>\n",
       "    <tr>\n",
       "      <th>mean</th>\n",
       "      <td>2.15</td>\n",
       "      <td>3.99</td>\n",
       "      <td>358.00</td>\n",
       "    </tr>\n",
       "    <tr>\n",
       "      <th>std</th>\n",
       "      <td>1.11</td>\n",
       "      <td>0.52</td>\n",
       "      <td>681.82</td>\n",
       "    </tr>\n",
       "    <tr>\n",
       "      <th>min</th>\n",
       "      <td>1.00</td>\n",
       "      <td>1.00</td>\n",
       "      <td>1.00</td>\n",
       "    </tr>\n",
       "    <tr>\n",
       "      <th>25%</th>\n",
       "      <td>1.00</td>\n",
       "      <td>3.50</td>\n",
       "      <td>50.00</td>\n",
       "    </tr>\n",
       "    <tr>\n",
       "      <th>50%</th>\n",
       "      <td>2.00</td>\n",
       "      <td>4.00</td>\n",
       "      <td>161.50</td>\n",
       "    </tr>\n",
       "    <tr>\n",
       "      <th>75%</th>\n",
       "      <td>3.00</td>\n",
       "      <td>4.50</td>\n",
       "      <td>384.25</td>\n",
       "    </tr>\n",
       "    <tr>\n",
       "      <th>max</th>\n",
       "      <td>4.00</td>\n",
       "      <td>5.00</td>\n",
       "      <td>9638.00</td>\n",
       "    </tr>\n",
       "  </tbody>\n",
       "</table>\n",
       "</div>"
      ],
      "text/plain": [
       "         price   rating  review_count\n",
       "count  1000.00  1000.00       1000.00\n",
       "mean      2.15     3.99        358.00\n",
       "std       1.11     0.52        681.82\n",
       "min       1.00     1.00          1.00\n",
       "25%       1.00     3.50         50.00\n",
       "50%       2.00     4.00        161.50\n",
       "75%       3.00     4.50        384.25\n",
       "max       4.00     5.00       9638.00"
      ]
     },
     "execution_count": 74,
     "metadata": {},
     "output_type": "execute_result"
    }
   ],
   "source": [
    "# Replace None with appropriate code\n",
    "\n",
    "# Calculate summary statistics for the review counts, average rating, and price\n",
    "\n",
    "business_df[['price', 'rating', 'review_count']].describe().round(2)"
   ]
  },
  {
   "cell_type": "markdown",
   "metadata": {},
   "source": [
    "Describe the results displayed above and interpret them in the context of your query. (Your answer may differ from the solution branch depending on your query.)"
   ]
  },
  {
   "cell_type": "code",
   "execution_count": 54,
   "metadata": {},
   "outputs": [
    {
     "data": {
      "text/plain": [
       "\"\\nUsing a selection of 1000 Yelp restaurant reviews of New York 'pizza' restaurants, we can see that:\\n- Each restaurant has on average 350 reviews (Source: Mean)\\n- The average rating is 4 out of 5 (Source: Mean & Median)\\n- Do something about the max (review_count)\\n\""
      ]
     },
     "execution_count": 54,
     "metadata": {},
     "output_type": "execute_result"
    }
   ],
   "source": [
    "# Replace None with appropriate text\n",
    "\"\"\"\n",
    "Using a selection of 1000 Yelp restaurant reviews of New York 'pizza' restaurants, we can see that:\n",
    "- Each restaurant has on average 350 reviews\n",
    "- The average rating is 4 out of 5\n",
    "- The average price is $$ out of $$$$\n",
    "- The maximum review count implies that there are heavy outliers e.g. a few restaurants have a very large number of reviews\n",
    "- The median review count (50%) also implies that there are lots of outliers (very different to the mean)\n",
    "\"\"\""
   ]
  },
  {
   "cell_type": "markdown",
   "metadata": {},
   "source": [
    "## Histograms\n",
    "\n",
    "Create histograms for the review counts, average rating, and price."
   ]
  },
  {
   "cell_type": "code",
   "execution_count": 81,
   "metadata": {
    "scrolled": false
   },
   "outputs": [
    {
     "data": {
      "image/png": "[encoded data removed]",
      "text/plain": [
       "<Figure size 1152x360 with 3 Axes>"
      ]
     },
     "metadata": {
      "needs_background": "light"
     },
     "output_type": "display_data"
    }
   ],
   "source": [
    "# Replace None with your code\n",
    "import matplotlib.pyplot as plt\n",
    "%matplotlib inline\n",
    "\n",
    "fig, (ax1, ax2, ax3) = plt.subplots(ncols=3, figsize=(16, 5))\n",
    "\n",
    "# Plot distribution of number of reviews per business\n",
    "all_review_counts = ax1.hist(business_df['review_count'], bins=25, color='#86bf91')\n",
    "\n",
    "ax1.set(title = \"Review Counts\",\n",
    "       xlabel = \"Number of Reviews\", \n",
    "       ylabel = \"Number of Restaurants\")\n",
    "\n",
    "# Plot distribution of ratings across businesses\n",
    "all_ratings = ax2.hist(business_df['rating'], bins=5, color='#86bf91')\n",
    "\n",
    "ax2.set(title = \"Ratings\",\n",
    "       xlabel = \"Rating\", \n",
    "       ylabel = \"Number of Reviews\")\n",
    "\n",
    "# Plot distribution of prices across businesses\n",
    "all_prices = ax3.hist(business_df['price'], bins=4, color='#86bf91')\n",
    "\n",
    "ax3.set(title = \"Price\",\n",
    "       xlabel = \"Price\", \n",
    "       ylabel = \"Number of Reviews\");"
   ]
  },
  {
   "cell_type": "markdown",
   "metadata": {},
   "source": [
    "Describe the distributions displayed above and interpret them in the context of your query. (Your answer may differ from the solution branch depending on your query.)"
   ]
  },
  {
   "cell_type": "code",
   "execution_count": null,
   "metadata": {},
   "outputs": [],
   "source": [
    "# Replace None with appropriate text\n",
    "\"\"\"\n",
    "From the Review Counts Histogram we can see that:\n",
    "- There is a large spread in the amount of reviews across restaurants - 0 to ~9600 reviews\n",
    "- Most restaurants have <1000 reviews, with the majority <500\n",
    "- This data is heavily skewed with outliers at either end\n",
    "\n",
    "From the Ratings Histogram we can infer that:\n",
    "- The most common rating is 4 out of 5 stars\n",
    "- The second most common is 5 out of 5\n",
    "- This data is skewed towards reviews with higher ratings\n",
    "\n",
    "From the Price Histogram we can see that:\n",
    "- The majority of reviews give a price rating of 1 - 2 ($ - $$)\n",
    "\"\"\""
   ]
  },
  {
   "cell_type": "markdown",
   "metadata": {},
   "source": [
    "## Ratings vs. Price\n",
    "\n",
    "Create a visualization showing the relationship between rating and price. You can do this a few different ways - one option could be to show the average price at each rating using a bar chart."
   ]
  },
  {
   "cell_type": "code",
   "execution_count": 23,
   "metadata": {},
   "outputs": [
    {
     "data": {
      "image/png": "[encoded data removed]",
      "text/plain": [
       "<Figure size 432x288 with 1 Axes>"
      ]
     },
     "metadata": {
      "needs_background": "light"
     },
     "output_type": "display_data"
    }
   ],
   "source": [
    "# Replace None with your code\n",
    "\n",
    "# Calculate average price for each rating\n",
    "rvg = business_df.groupby('rating').agg({'price': 'mean'})\n",
    "\n",
    "# Plot results\n",
    "fig, ax = plt.subplots()\n",
    "\n",
    "ax.bar(x = list(rvg.index),\n",
    "       height = list(rvg['price']),\n",
    "       width = (0.4),\n",
    "       color = '#86bf91')\n",
    "\n",
    "ax.set(title = \"Ratings vs Price\", \n",
    "       xlabel = \"Average rating\", \n",
    "       ylabel = \"Average price\");"
   ]
  },
  {
   "cell_type": "markdown",
   "metadata": {},
   "source": [
    "Is a higher price associated with a higher rating? (No need for any additional math/statistics, just interpret what you see in the plot.)"
   ]
  },
  {
   "cell_type": "code",
   "execution_count": 82,
   "metadata": {},
   "outputs": [
    {
     "data": {
      "text/plain": [
       "\"\\nNo, there's no association between price and higher rating in this data.\\n\""
      ]
     },
     "execution_count": 82,
     "metadata": {},
     "output_type": "execute_result"
    }
   ],
   "source": [
    "# Replace None with appropriate text\n",
    "\"\"\"\n",
    "No, there's no association between price and higher rating in this data.\n",
    "\"\"\""
   ]
  },
  {
   "cell_type": "markdown",
   "metadata": {},
   "source": [
    "## Ratings vs Review Counts\n",
    "\n",
    "Finally, let's look at ratings vs. review counts. You can analyze this relationship similarly to ratings vs. price."
   ]
  },
  {
   "cell_type": "code",
   "execution_count": 83,
   "metadata": {},
   "outputs": [
    {
     "data": {
      "image/png": "[encoded data removed]",
      "text/plain": [
       "<Figure size 432x288 with 1 Axes>"
      ]
     },
     "metadata": {
      "needs_background": "light"
     },
     "output_type": "display_data"
    }
   ],
   "source": [
    "# Replace None with your code\n",
    "\n",
    "# Calculate average review count for each rating\n",
    "rating_review_count = business_df.groupby('rating').agg({'review_count': 'mean'})\n",
    "\n",
    "# Plot results\n",
    "fig, ax = plt.subplots()\n",
    "\n",
    "ax.bar(x = list(rating_review_count.index),\n",
    "       height = list(rating_review_count['review_count']),\n",
    "       width = 0.3,\n",
    "       color = '#86bf91')\n",
    "\n",
    "ax.set(title = \"Ratings vs Review Count\", \n",
    "       xlabel = \"Average Rating\", \n",
    "       ylabel = \"Average Review Count\");"
   ]
  },
  {
   "cell_type": "markdown",
   "metadata": {},
   "source": [
    "Is a higher number of reviews associated with a higher rating?"
   ]
  },
  {
   "cell_type": "code",
   "execution_count": 93,
   "metadata": {},
   "outputs": [
    {
     "data": {
      "text/plain": [
       "'\\nYes, higher rated restaurants (specifically 4 out of 5) receive more reviews.\\n'"
      ]
     },
     "execution_count": 93,
     "metadata": {},
     "output_type": "execute_result"
    }
   ],
   "source": [
    "# Replace None with appropriate text\n",
    "\"\"\"\n",
    "Yes, higher rated restaurants (specifically 4 out of 5) receive more reviews.\n",
    "\"\"\""
   ]
  },
  {
   "cell_type": "markdown",
   "metadata": {},
   "source": [
    "## Level Up: Create a Folium Map\n",
    "\n",
    "Make a map using Folium of the businesses you retrieved. Be sure to also add popups to the markers giving some basic information such as name, rating and price.\n",
    "\n",
    "You can center the map around the latitude and longitude of the first item in your dataset."
   ]
  },
  {
   "cell_type": "code",
   "execution_count": 90,
   "metadata": {},
   "outputs": [
    {
     "data": {
      "text/html": [
       "<div style=\"width:100%;\"><div style=\"position:relative;width:100%;height:0;padding-bottom:60%;\"><span style=\"color:#565656\">Make this Notebook Trusted to load map: File -> Trust Notebook</span><iframe src=\"about:blank\" style=\"position:absolute;width:100%;height:100%;left:0;top:0;border:none !important;\" data-html=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 onload=\"this.contentDocument.open();this.contentDocument.write(atob(this.getAttribute('data-html')));this.contentDocument.close();\" allowfullscreen webkitallowfullscreen mozallowfullscreen></iframe></div></div>"
      ],
      "text/plain": [
       "<folium.folium.Map at 0x14b2ac9db80>"
      ]
     },
     "execution_count": 90,
     "metadata": {},
     "output_type": "execute_result"
    }
   ],
   "source": [
    "# Replace None with appropriate code\n",
    "\n",
    "# Import the library\n",
    "import folium\n",
    "\n",
    "# Set up center latitude and longitude\n",
    "center_lat = business_df.iloc[0]['latitude']\n",
    "center_long = business_df.iloc[0]['longitude']\n",
    "\n",
    "# Initialize map with center lat and long\n",
    "yelp_map = folium.Map([center_lat, center_long], zoom_start=13, control_scale=True)\n",
    "\n",
    "# Adjust this limit to see more or fewer businesses\n",
    "limit=100\n",
    "\n",
    "for business in full_dataset[:limit]:\n",
    "    # Extract information about business\n",
    "    lat = business['coordinates']['latitude']\n",
    "    long = business['coordinates']['longitude']\n",
    "    name = business['name']\n",
    "    rating = business['rating']\n",
    "    price = business.get('price')\n",
    "    details = \"{}\\nPrice: {} Rating:{}\".format(name,price,rating)\n",
    "    \n",
    "#   Create marker with relevant lat/long and popup\n",
    "    marker = folium.Marker(location=[lat, long])\n",
    "    marker.add_to(yelp_map)\n",
    "    \n",
    "#   Create popup with relevant details\n",
    "#     popup_text = \"Name: {}, Price: {}, Rating: {}\".format(name,price,rating)\n",
    "    popup_text = \"{}, Price: {}, Rating: {}\".format(name,price,rating)\n",
    "    popup = folium.Popup(popup_text, parse_html=True, max_width=450)\n",
    "    marker = folium.Marker(location=[lat, long], popup=popup)\n",
    "    marker.add_to(yelp_map)\n",
    "    \n",
    "yelp_map"
   ]
  },
  {
   "cell_type": "markdown",
   "metadata": {},
   "source": [
    "# 5. Create Presentation Notebook\n",
    "\n",
    "Now that you've completed your project, let's put it into an easily presentable format so you can add it to your portfolio. To do this, we recommend completing the following steps outside of this notebook.\n",
    "\n",
    "1. Create a new GitHub repository for your project.\n",
    "2. Save a copy of this notebook into your local repository.\n",
    "3. Edit the text and images in the notebook to present your project and help someone else understand it.\n",
    "4. Run your notebook from start to finish, then **delete your API key** and save it.\n",
    "5. Create a README.md file in your repository with a brief summary of your project.\n",
    "6. Push your updated repository to GitHub to share with your instructor and employers!"
   ]
  },
  {
   "cell_type": "markdown",
   "metadata": {},
   "source": [
    "# Level Up: Project Enhancements\n",
    "\n",
    "After completing the project, you could consider the following enhancements if you have time:\n",
    "\n",
    "* Save a cleaned version of your dataset in your repository, then modify the notebook to load and use that dataset for the analysis. This will allow others to replicate your analysis and avoid running their own API queries.\n",
    "* Use `seaborn` to improve the styling of your visualizations\n",
    "* Explain the implications of your findings for business owners or internal Yelp staff\n",
    "* Repeat the project for another business category or location, and compare the results"
   ]
  },
  {
   "cell_type": "markdown",
   "metadata": {},
   "source": [
    "# Summary\n",
    "\n",
    "Nice work! In this lab, you've made multiple API calls to Yelp in order to paginate through a results set, prepared your data for analysis, and then conducted and visualized descriptive analyses. Well done!"
   ]
  }
 ],
 "metadata": {
  "kernelspec": {
   "display_name": "Python 3",
   "language": "python",
   "name": "python3"
  },
  "language_info": {
   "codemirror_mode": {
    "name": "ipython",
    "version": 3
   },
   "file_extension": ".py",
   "mimetype": "text/x-python",
   "name": "python",
   "nbconvert_exporter": "python",
   "pygments_lexer": "ipython3",
   "version": "3.8.5"
  },
  "toc": {
   "base_numbering": 1,
   "nav_menu": {},
   "number_sections": true,
   "sideBar": true,
   "skip_h1_title": false,
   "title_cell": "Table of Contents",
   "title_sidebar": "Contents",
   "toc_cell": false,
   "toc_position": {},
   "toc_section_display": true,
   "toc_window_display": false
  }
 },
 "nbformat": 4,
 "nbformat_minor": 2
}
